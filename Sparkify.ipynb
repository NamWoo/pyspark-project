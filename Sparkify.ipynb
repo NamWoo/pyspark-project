{
 "cells": [
  {
   "cell_type": "markdown",
   "metadata": {},
   "source": [
    "# Sparkify Project Workspace\n",
    "This workspace contains a tiny subset (128MB) of the full dataset available (12GB). Feel free to use this workspace to build your project, or to explore a smaller subset with Spark before deploying your cluster on the cloud. Instructions for setting up your Spark cluster is included in the last lesson of the Extracurricular Spark Course content.\n",
    "\n",
    "You can follow the steps below to guide your data analysis and model building portion of this project."
   ]
  },
  {
   "cell_type": "code",
   "execution_count": 1,
   "metadata": {},
   "outputs": [],
   "source": [
    "import pyspark\n",
    "import pyspark.ml"
   ]
  },
  {
   "cell_type": "code",
   "execution_count": 2,
   "metadata": {},
   "outputs": [
    {
     "data": {
      "text/plain": [
       "<module 'pyspark' from '/opt/spark-2.4.3-bin-hadoop2.7/python/pyspark/__init__.py'>"
      ]
     },
     "execution_count": 2,
     "metadata": {},
     "output_type": "execute_result"
    }
   ],
   "source": [
    "pyspark"
   ]
  },
  {
   "cell_type": "code",
   "execution_count": 3,
   "metadata": {},
   "outputs": [
    {
     "data": {
      "text/plain": [
       "<module 'pyspark.ml' from '/opt/spark-2.4.3-bin-hadoop2.7/python/pyspark/ml/__init__.py'>"
      ]
     },
     "execution_count": 3,
     "metadata": {},
     "output_type": "execute_result"
    }
   ],
   "source": [
    "pyspark.ml"
   ]
  },
  {
   "cell_type": "code",
   "execution_count": 4,
   "metadata": {},
   "outputs": [],
   "source": [
    "# import libraries\n",
    "from pyspark.sql import SparkSession\n",
    "from pyspark.sql.functions import avg, col, concat, desc, explode, lit, min, max, split, udf, isnull\n",
    "from pyspark.sql.types import IntegerType\n",
    "from pyspark.ml import Pipeline\n",
    "from pyspark.ml.classification import LogisticRegression, RandomForestClassifier, GBTClassifier, DecisionTreeClassifier, NaiveBayes\n",
    "from pyspark.ml.evaluation import MulticlassClassificationEvaluator\n",
    "from pyspark.ml.feature import CountVectorizer, IDF, Normalizer, PCA, RegexTokenizer, StandardScaler, StopWordsRemover, StringIndexer, VectorAssembler\n",
    "from pyspark.ml.regression import LinearRegression\n",
    "from pyspark.ml.tuning import CrossValidator, ParamGridBuilder\n",
    "\n",
    "from pyspark.ml.classification import LinearSVC\n",
    "from pyspark.ml.evaluation import BinaryClassificationEvaluator\n",
    "\n",
    "import re\n",
    "import datetime\n",
    "import matplotlib.pyplot as plt\n",
    "import pandas as pd\n",
    "import seaborn as sns"
   ]
  },
  {
   "cell_type": "code",
   "execution_count": 5,
   "metadata": {},
   "outputs": [
    {
     "name": "stdout",
     "output_type": "stream",
     "text": [
      "Welcome to\r\n",
      "      ____              __\r\n",
      "     / __/__  ___ _____/ /__\r\n",
      "    _\\ \\/ _ \\/ _ `/ __/  '_/\r\n",
      "   /___/ .__/\\_,_/_/ /_/\\_\\   version 2.4.3\r\n",
      "      /_/\r\n",
      "                        \r\n",
      "Using Scala version 2.11.12, OpenJDK 64-Bit Server VM, 1.8.0_242\r\n",
      "Branch \r\n",
      "Compiled by user  on 2019-05-01T05:08:38Z\r\n",
      "Revision \r\n",
      "Url \r\n",
      "Type --help for more information.\r\n"
     ]
    }
   ],
   "source": [
    "!spark-submit --version"
   ]
  },
  {
   "cell_type": "code",
   "execution_count": 6,
   "metadata": {},
   "outputs": [],
   "source": [
    "# create a Spark session\n",
    "spark = SparkSession \\\n",
    "    .builder \\\n",
    "    .appName(\"Sparkify\") \\\n",
    "    .getOrCreate()"
   ]
  },
  {
   "cell_type": "markdown",
   "metadata": {},
   "source": [
    "# Load and Clean Dataset\n",
    "In this workspace, the mini-dataset file is `mini_sparkify_event_data.json`. Load and clean the dataset, checking for invalid or missing data - for example, records without userids or sessionids. "
   ]
  },
  {
   "cell_type": "code",
   "execution_count": 7,
   "metadata": {},
   "outputs": [
    {
     "data": {
      "text/plain": [
       "DataFrame[artist: string, auth: string, firstName: string, gender: string, itemInSession: bigint, lastName: string, length: double, level: string, location: string, method: string, page: string, registration: bigint, sessionId: bigint, song: string, status: bigint, ts: bigint, userAgent: string, userId: string]"
      ]
     },
     "execution_count": 7,
     "metadata": {},
     "output_type": "execute_result"
    }
   ],
   "source": [
    "sparkify_data = 'mini_sparkify_event_data.json'\n",
    "df = spark.read.json(sparkify_data)\n",
    "df.persist()"
   ]
  },
  {
   "cell_type": "code",
   "execution_count": 8,
   "metadata": {},
   "outputs": [
    {
     "data": {
      "text/plain": [
       "Row(artist='Martha Tilston', auth='Logged In', firstName='Colin', gender='M', itemInSession=50, lastName='Freeman', length=277.89016, level='paid', location='Bakersfield, CA', method='PUT', page='NextSong', registration=1538173362000, sessionId=29, song='Rockpools', status=200, ts=1538352117000, userAgent='Mozilla/5.0 (Windows NT 6.1; WOW64; rv:31.0) Gecko/20100101 Firefox/31.0', userId='30')"
      ]
     },
     "execution_count": 8,
     "metadata": {},
     "output_type": "execute_result"
    }
   ],
   "source": [
    "df.head()"
   ]
  },
  {
   "cell_type": "code",
   "execution_count": 9,
   "metadata": {},
   "outputs": [
    {
     "data": {
      "text/plain": [
       "286500"
      ]
     },
     "execution_count": 9,
     "metadata": {},
     "output_type": "execute_result"
    }
   ],
   "source": [
    "df = df.dropna(how = \"any\", subset = [\"userId\", \"sessionId\"])\n",
    "df.count()"
   ]
  },
  {
   "cell_type": "markdown",
   "metadata": {},
   "source": [
    "# Exploratory Data Analysis\n",
    "When you're working with the full dataset, perform EDA by loading a small subset of the data and doing basic manipulations within Spark. In this workspace, you are already provided a small subset of data you can explore.\n",
    "\n",
    "### Define Churn\n",
    "\n",
    "Once you've done some preliminary analysis, create a column `Churn` to use as the label for your model. I suggest using the `Cancellation Confirmation` events to define your churn, which happen for both paid and free users. As a bonus task, you can also look into the `Downgrade` events.\n",
    "\n",
    "### Explore Data\n",
    "Once you've defined churn, perform some exploratory data analysis to observe the behavior for users who stayed vs users who churned. You can start by exploring aggregates on these two groups of users, observing how much of a specific action they experienced per a certain time unit or number of songs played."
   ]
  },
  {
   "cell_type": "markdown",
   "metadata": {},
   "source": [
    "see different pages"
   ]
  },
  {
   "cell_type": "code",
   "execution_count": 10,
   "metadata": {},
   "outputs": [
    {
     "name": "stdout",
     "output_type": "stream",
     "text": [
      "+--------------------+\n",
      "|                page|\n",
      "+--------------------+\n",
      "|              Cancel|\n",
      "|    Submit Downgrade|\n",
      "|         Thumbs Down|\n",
      "|                Home|\n",
      "|           Downgrade|\n",
      "|         Roll Advert|\n",
      "|              Logout|\n",
      "|       Save Settings|\n",
      "|Cancellation Conf...|\n",
      "|               About|\n",
      "| Submit Registration|\n",
      "|            Settings|\n",
      "|               Login|\n",
      "|            Register|\n",
      "|     Add to Playlist|\n",
      "|          Add Friend|\n",
      "|            NextSong|\n",
      "|           Thumbs Up|\n",
      "|                Help|\n",
      "|             Upgrade|\n",
      "+--------------------+\n",
      "only showing top 20 rows\n",
      "\n"
     ]
    }
   ],
   "source": [
    "df.select(\"page\").dropDuplicates().show()"
   ]
  },
  {
   "cell_type": "markdown",
   "metadata": {},
   "source": [
    "find one user who did Cancellation Confirmation"
   ]
  },
  {
   "cell_type": "code",
   "execution_count": 11,
   "metadata": {},
   "outputs": [
    {
     "name": "stdout",
     "output_type": "stream",
     "text": [
      "+------+\n",
      "|userId|\n",
      "+------+\n",
      "|   125|\n",
      "|    51|\n",
      "|    54|\n",
      "|100014|\n",
      "|   101|\n",
      "|    29|\n",
      "|100021|\n",
      "|    87|\n",
      "|    73|\n",
      "|     3|\n",
      "+------+\n",
      "only showing top 10 rows\n",
      "\n"
     ]
    }
   ],
   "source": [
    "df.filter(df.page==\"Cancellation Confirmation\").select(\"userId\").dropDuplicates().show(10)"
   ]
  },
  {
   "cell_type": "code",
   "execution_count": 12,
   "metadata": {},
   "outputs": [
    {
     "data": {
      "text/plain": [
       "286500"
      ]
     },
     "execution_count": 12,
     "metadata": {},
     "output_type": "execute_result"
    }
   ],
   "source": [
    "df.count()"
   ]
  },
  {
   "cell_type": "code",
   "execution_count": 13,
   "metadata": {},
   "outputs": [],
   "source": [
    "get_time = udf(lambda x: datetime.datetime.fromtimestamp(x / 1000.0).strftime(\"%Y-%m-%d %H:%M:%S\"))\n",
    "df = df.withColumn(\"time\", get_time(df.ts))"
   ]
  },
  {
   "cell_type": "markdown",
   "metadata": {},
   "source": [
    "see who has 125  userId"
   ]
  },
  {
   "cell_type": "code",
   "execution_count": 14,
   "metadata": {},
   "outputs": [
    {
     "name": "stdout",
     "output_type": "stream",
     "text": [
      "+------+--------------------+-------------------+-----+--------------------+---------+\n",
      "|userId|                page|               time|level|                song|sessionId|\n",
      "+------+--------------------+-------------------+-----+--------------------+---------+\n",
      "|   125|            NextSong|2018-10-12 04:05:44| free|    paranoid android|      174|\n",
      "|   125|            NextSong|2018-10-12 04:11:21| free|Hypnotize(Album V...|      174|\n",
      "|   125|            NextSong|2018-10-12 04:15:11| free|       I'm On My Way|      174|\n",
      "|   125|            NextSong|2018-10-12 04:18:34| free|Leader Of Men (Al...|      174|\n",
      "|   125|            NextSong|2018-10-12 04:22:04| free|       Love You Down|      174|\n",
      "|   125|            NextSong|2018-10-12 04:28:35| free|Don't Leave Me Be...|      174|\n",
      "|   125|            NextSong|2018-10-12 04:32:08| free|     They're Red Hot|      174|\n",
      "|   125|            NextSong|2018-10-12 04:35:06| free|                Kota|      174|\n",
      "|   125|         Roll Advert|2018-10-12 04:35:17| free|                null|      174|\n",
      "|   125|              Cancel|2018-10-12 04:35:18| free|                null|      174|\n",
      "|   125|Cancellation Conf...|2018-10-12 04:35:18| free|                null|      174|\n",
      "+------+--------------------+-------------------+-----+--------------------+---------+\n",
      "\n"
     ]
    }
   ],
   "source": [
    "df.select([\"userId\", \"page\", \"time\", \"level\", \"song\", \"sessionId\"]).where(df.userId == \"125\").sort(\"time\").show(100)"
   ]
  },
  {
   "cell_type": "markdown",
   "metadata": {},
   "source": [
    "see the gender distribution between churn user and normal user"
   ]
  },
  {
   "cell_type": "code",
   "execution_count": 15,
   "metadata": {},
   "outputs": [
    {
     "name": "stdout",
     "output_type": "stream",
     "text": [
      "+-----+------+-----+\n",
      "|churn|gender|count|\n",
      "+-----+------+-----+\n",
      "|false|     M|   89|\n",
      "|false|     F|   84|\n",
      "|false|  null|    1|\n",
      "| true|     F|   20|\n",
      "| true|     M|   32|\n",
      "+-----+------+-----+\n",
      "\n"
     ]
    }
   ],
   "source": [
    "churn_users = df.filter(df.page==\"Cancellation Confirmation\").select(\"userId\").dropDuplicates()\n",
    "churn_users_list = [(row['userId']) for row in churn_users.collect()]\n",
    "\n",
    "df_withchurn = df.withColumn(\"churn\", df.userId.isin(churn_users_list))\n",
    "df_withchurn.dropDuplicates([\"userId\", \"gender\"]).groupby([\"churn\", \"gender\"]).count().sort(\"churn\").show()"
   ]
  },
  {
   "cell_type": "code",
   "execution_count": 16,
   "metadata": {},
   "outputs": [
    {
     "data": {
      "text/plain": [
       "<matplotlib.axes._subplots.AxesSubplot at 0x7f8874b6f780>"
      ]
     },
     "execution_count": 16,
     "metadata": {},
     "output_type": "execute_result"
    },
    {
     "data": {
      "image/png": "[encoded data removed]",
      "text/plain": [
       "<matplotlib.figure.Figure at 0x7f8874b4c390>"
      ]
     },
     "metadata": {
      "needs_background": "light"
     },
     "output_type": "display_data"
    }
   ],
   "source": [
    "df_pd = df_withchurn.dropDuplicates([\"userId\", \"gender\"]).groupby([\"churn\", \"gender\"]).count().sort(\"churn\").toPandas()\n",
    "sns.barplot(x='churn', y='count', hue='gender', data=df_pd)"
   ]
  },
  {
   "cell_type": "code",
   "execution_count": 17,
   "metadata": {},
   "outputs": [],
   "source": [
    "churn_count = df_withchurn.filter(df_withchurn.churn==1).count()\n",
    "no_churn_count = df_withchurn.filter(df_withchurn.churn==0).count()\n",
    "\n",
    "df_temp1 = df_withchurn.filter(df_withchurn.churn==1).filter(df_withchurn.page!=\"NextSong\").groupby([\"page\"]).count()\n",
    "df_temp1 = df_temp1.withColumn(\"cFreq\", df_temp1[\"count\"]/(churn_count/100)).sort(\"page\")\n",
    "\n",
    "df_temp2 = df_withchurn.filter(df_withchurn.churn==0).filter(df_withchurn.page!=\"NextSong\").groupby([\"page\"]).count()\n",
    "df_temp2 = df_temp2.withColumn(\"ncFreq\", df_temp2[\"count\"]/(no_churn_count/100)).sort(\"page\")"
   ]
  },
  {
   "cell_type": "code",
   "execution_count": 18,
   "metadata": {},
   "outputs": [
    {
     "data": {
      "text/plain": [
       "<matplotlib.axes._subplots.AxesSubplot at 0x7f8874b64c88>"
      ]
     },
     "execution_count": 18,
     "metadata": {},
     "output_type": "execute_result"
    },
    {
     "data": {
      "image/png": "[encoded data removed]",
      "text/plain": [
       "<matplotlib.figure.Figure at 0x7f8891fc0390>"
      ]
     },
     "metadata": {
      "needs_background": "light"
     },
     "output_type": "display_data"
    }
   ],
   "source": [
    "df_pd = df_temp1.join(df_temp2, \"page\", \"outer\").drop(\"count\").fillna(0).toPandas()\n",
    "df_pd.plot.bar(\"page\")"
   ]
  },
  {
   "cell_type": "markdown",
   "metadata": {},
   "source": [
    "see the level when the user churned"
   ]
  },
  {
   "cell_type": "code",
   "execution_count": 19,
   "metadata": {},
   "outputs": [
    {
     "data": {
      "text/plain": [
       "<matplotlib.axes._subplots.AxesSubplot at 0x7f8874992240>"
      ]
     },
     "execution_count": 19,
     "metadata": {},
     "output_type": "execute_result"
    },
    {
     "data": {
      "image/png": "[encoded data removed]",
      "text/plain": [
       "<matplotlib.figure.Figure at 0x7f88749a02e8>"
      ]
     },
     "metadata": {
      "needs_background": "light"
     },
     "output_type": "display_data"
    }
   ],
   "source": [
    "df_pd = df_withchurn.filter(df_withchurn.page==\"Cancellation Confirmation\").groupby(\"level\").count().toPandas()\n",
    "sns.barplot(x=\"level\", y=\"count\", data=df_pd)"
   ]
  },
  {
   "cell_type": "markdown",
   "metadata": {},
   "source": [
    "show the time span of the log"
   ]
  },
  {
   "cell_type": "code",
   "execution_count": 20,
   "metadata": {},
   "outputs": [
    {
     "name": "stdout",
     "output_type": "stream",
     "text": [
      "+-------+-------------------+\n",
      "|summary|               time|\n",
      "+-------+-------------------+\n",
      "|  count|             286500|\n",
      "|   mean|               null|\n",
      "| stddev|               null|\n",
      "|    min|2018-10-01 00:01:57|\n",
      "|    max|2018-12-03 01:11:16|\n",
      "+-------+-------------------+\n",
      "\n"
     ]
    }
   ],
   "source": [
    "df_withchurn.select(\"time\").describe().show()"
   ]
  },
  {
   "cell_type": "markdown",
   "metadata": {},
   "source": [
    "Show the distribution in operations in each session"
   ]
  },
  {
   "cell_type": "code",
   "execution_count": 21,
   "metadata": {},
   "outputs": [
    {
     "data": {
      "text/plain": [
       "<matplotlib.axes._subplots.AxesSubplot at 0x7f887477fb70>"
      ]
     },
     "execution_count": 21,
     "metadata": {},
     "output_type": "execute_result"
    },
    {
     "data": {
      "image/png": "[encoded data removed]",
      "text/plain": [
       "<matplotlib.figure.Figure at 0x7f8874b64d68>"
      ]
     },
     "metadata": {
      "needs_background": "light"
     },
     "output_type": "display_data"
    }
   ],
   "source": [
    "df_pd = df_withchurn.groupby(\"churn\", \"userId\", \"sessionId\").count().toPandas()\n",
    "sns.boxplot(x='count', y='churn', orient=\"h\", data=df_pd)"
   ]
  },
  {
   "cell_type": "markdown",
   "metadata": {},
   "source": [
    "Time distribution"
   ]
  },
  {
   "cell_type": "code",
   "execution_count": 22,
   "metadata": {},
   "outputs": [],
   "source": [
    "get_hour = udf(lambda x: datetime.datetime.fromtimestamp(x / 1000.0).hour)\n",
    "df_withchurn = df_withchurn.withColumn(\"hour\", get_hour(df_withchurn.ts))\n",
    "\n",
    "get_weekday = udf(lambda x: datetime.datetime.fromtimestamp(x / 1000.0).strftime(\"%w\"))\n",
    "df_withchurn = df_withchurn.withColumn(\"weekday\", get_weekday(df_withchurn.ts))\n",
    "\n",
    "get_day = udf(lambda x: datetime.datetime.fromtimestamp(x / 1000.0).day)\n",
    "df_withchurn = df_withchurn.withColumn(\"day\", get_day(df_withchurn.ts))"
   ]
  },
  {
   "cell_type": "code",
   "execution_count": 23,
   "metadata": {},
   "outputs": [],
   "source": [
    "def plot_cnt_by_churn(time): \n",
    "    \"\"\"\n",
    "    This function use to plot the distribution of different dimension\n",
    "    \"\"\"\n",
    "    df_pd = df_withchurn.filter(df_withchurn.page == \"NextSong\").groupby(\"churn\", time).count().orderBy(df_withchurn[time].cast(\"float\")).toPandas()\n",
    "    df_pd[time] = pd.to_numeric(df_pd[time])\n",
    "    df_pd[df_pd.churn==0].plot.bar(x=time, y='count', color='Blue', label='Not churn')\n",
    "    df_pd[df_pd.churn==1].plot.bar(x=time, y='count', color='Red', label='Churn')"
   ]
  },
  {
   "cell_type": "code",
   "execution_count": 24,
   "metadata": {},
   "outputs": [
    {
     "data": {
      "image/png": "[encoded data removed]",
      "text/plain": [
       "<matplotlib.figure.Figure at 0x7f8874b8df98>"
      ]
     },
     "metadata": {
      "needs_background": "light"
     },
     "output_type": "display_data"
    },
    {
     "data": {
      "image/png": "[encoded data removed]",
      "text/plain": [
       "<matplotlib.figure.Figure at 0x7f8874789710>"
      ]
     },
     "metadata": {
      "needs_background": "light"
     },
     "output_type": "display_data"
    }
   ],
   "source": [
    "plot_cnt_by_churn(\"hour\")"
   ]
  },
  {
   "cell_type": "code",
   "execution_count": 25,
   "metadata": {},
   "outputs": [
    {
     "data": {
      "image/png": "[encoded data removed]",
      "text/plain": [
       "<matplotlib.figure.Figure at 0x7f8874785ac8>"
      ]
     },
     "metadata": {
      "needs_background": "light"
     },
     "output_type": "display_data"
    },
    {
     "data": {
      "image/png": "[encoded data removed]",
      "text/plain": [
       "<matplotlib.figure.Figure at 0x7f887463eda0>"
      ]
     },
     "metadata": {
      "needs_background": "light"
     },
     "output_type": "display_data"
    }
   ],
   "source": [
    "plot_cnt_by_churn(\"weekday\")"
   ]
  },
  {
   "cell_type": "code",
   "execution_count": 26,
   "metadata": {},
   "outputs": [
    {
     "data": {
      "image/png": "[encoded data removed]",
      "text/plain": [
       "<matplotlib.figure.Figure at 0x7f8874645cc0>"
      ]
     },
     "metadata": {
      "needs_background": "light"
     },
     "output_type": "display_data"
    },
    {
     "data": {
      "image/png": "[encoded data removed]",
      "text/plain": [
       "<matplotlib.figure.Figure at 0x7f887453cef0>"
      ]
     },
     "metadata": {
      "needs_background": "light"
     },
     "output_type": "display_data"
    }
   ],
   "source": [
    "plot_cnt_by_churn(\"day\")"
   ]
  },
  {
   "cell_type": "code",
   "execution_count": null,
   "metadata": {},
   "outputs": [],
   "source": []
  },
  {
   "cell_type": "markdown",
   "metadata": {},
   "source": [
    "DataFrame[artist: string, auth: string, firstName: string, gender: string, itemInSession: bigint, lastName: string, length: double, level: string, location: string, method: string, page: string, registration: bigint, sessionId: bigint, song: string, status: bigint, ts: bigint, userAgent: string, userId: string]"
   ]
  },
  {
   "cell_type": "markdown",
   "metadata": {},
   "source": [
    "# Feature Engineering\n",
    "Once you've familiarized yourself with the data, build out the features you find promising to train your model on. To work with the full dataset, you can follow the following steps.\n",
    "- Write a script to extract the necessary features from the smaller subset of data\n",
    "- Ensure that your script is scalable, using the best practices discussed in Lesson 3\n",
    "- Try your script on the full data set, debugging your script if necessary\n",
    "\n",
    "If you are working in the classroom workspace, you can just extract features based on the small subset of data contained here. Be sure to transfer over this work to the larger dataset when you work on your Spark cluster."
   ]
  },
  {
   "cell_type": "code",
   "execution_count": 27,
   "metadata": {},
   "outputs": [],
   "source": [
    "user_max_ts = df_withchurn.groupby(\"userId\").max(\"ts\").sort(\"userId\")\n",
    "user_reg_ts = df_withchurn.select(\"userId\", \"registration\").dropDuplicates().sort(\"userId\")\n",
    "user_reg_days = user_reg_ts.join(user_max_ts, user_reg_ts.userId == user_max_ts.userId).select(user_reg_ts[\"userId\"], ((user_max_ts[\"max(ts)\"]-user_reg_ts[\"registration\"])/(1000*60*60*24)).alias(\"regDay\"))"
   ]
  },
  {
   "cell_type": "code",
   "execution_count": 28,
   "metadata": {},
   "outputs": [
    {
     "name": "stdout",
     "output_type": "stream",
     "text": [
      "+------+------------------+\n",
      "|userId|            regDay|\n",
      "+------+------------------+\n",
      "|      |              null|\n",
      "|    10| 51.76265046296297|\n",
      "|   100| 64.87377314814815|\n",
      "|100001| 44.80021990740741|\n",
      "|100002|160.47207175925925|\n",
      "|100003|22.748113425925926|\n",
      "|100004|172.44008101851853|\n",
      "|100005| 85.19559027777778|\n",
      "|100006| 9.127164351851851|\n",
      "|100007|115.38761574074074|\n",
      "+------+------------------+\n",
      "only showing top 10 rows\n",
      "\n"
     ]
    }
   ],
   "source": [
    "user_reg_days.show(10)"
   ]
  },
  {
   "cell_type": "markdown",
   "metadata": {},
   "source": [
    "Feature 2: avg & min & max time per session"
   ]
  },
  {
   "cell_type": "code",
   "execution_count": 29,
   "metadata": {},
   "outputs": [],
   "source": [
    "user_session_time = df_withchurn.groupby(\"userId\", \"sessionId\").agg(((max(df_withchurn.ts)-min(df_withchurn.ts))/(1000*60)).alias(\"sessionTime\"))\n",
    "user_session_time_stat = user_session_time.groupby(\"userId\").agg(avg(user_session_time.sessionTime).alias(\"avgSessionTime\"), min(user_session_time.sessionTime).alias(\"minSessionTime\"), max(user_session_time.sessionTime).alias(\"maxSessionTime\")).sort(\"userId\")"
   ]
  },
  {
   "cell_type": "code",
   "execution_count": 30,
   "metadata": {},
   "outputs": [
    {
     "name": "stdout",
     "output_type": "stream",
     "text": [
      "+------+------------------+-----------------+------------------+\n",
      "|userId|    avgSessionTime|   minSessionTime|    maxSessionTime|\n",
      "+------+------------------+-----------------+------------------+\n",
      "|      | 5838.938684264373|              0.0|          84056.45|\n",
      "|    10|459.74722222222226|91.41666666666667|1547.9166666666667|\n",
      "|   100| 316.5190476190476|              0.0|1019.5833333333334|\n",
      "|100001|148.15833333333333|             63.0|215.28333333333333|\n",
      "|100002|201.18333333333334|              0.0| 730.4666666666667|\n",
      "|100003| 99.11666666666667|3.216666666666667|195.01666666666668|\n",
      "|100004|185.98650793650793|              0.0| 940.2166666666667|\n",
      "|100005|120.18666666666668|              0.0|209.21666666666667|\n",
      "|100006| 93.43333333333334|93.43333333333334| 93.43333333333334|\n",
      "|100007|189.41111111111113|              8.9| 675.6333333333333|\n",
      "+------+------------------+-----------------+------------------+\n",
      "only showing top 10 rows\n",
      "\n"
     ]
    }
   ],
   "source": [
    "user_session_time_stat.show(10)"
   ]
  },
  {
   "cell_type": "markdown",
   "metadata": {},
   "source": [
    "Feature 3: number of songs per session"
   ]
  },
  {
   "cell_type": "code",
   "execution_count": 31,
   "metadata": {},
   "outputs": [],
   "source": [
    "user_session_songs = df_withchurn.filter(df_withchurn.page==\"NextSong\").groupby(\"userId\", \"sessionId\").count()\n",
    "user_session_songs_avg = user_session_songs.groupby(\"userId\").agg(avg(user_session_songs[\"count\"]).alias(\"avgSessionSongs\")).sort(\"userId\")"
   ]
  },
  {
   "cell_type": "code",
   "execution_count": 32,
   "metadata": {},
   "outputs": [
    {
     "name": "stdout",
     "output_type": "stream",
     "text": [
      "+------+------------------+\n",
      "|userId|   avgSessionSongs|\n",
      "+------+------------------+\n",
      "|    10|112.16666666666667|\n",
      "|   100| 78.88235294117646|\n",
      "|100001|             33.25|\n",
      "|100002|             48.75|\n",
      "|100003|              25.5|\n",
      "|100004|              47.1|\n",
      "|100005|              38.5|\n",
      "|100006|              26.0|\n",
      "|100007|              47.0|\n",
      "|100008|128.66666666666666|\n",
      "+------+------------------+\n",
      "only showing top 10 rows\n",
      "\n"
     ]
    }
   ],
   "source": [
    "user_session_songs_avg.show(10)"
   ]
  },
  {
   "cell_type": "markdown",
   "metadata": {},
   "source": [
    "Feature 4: number of sessions"
   ]
  },
  {
   "cell_type": "code",
   "execution_count": 33,
   "metadata": {},
   "outputs": [],
   "source": [
    "user_session_count = df_withchurn.select(\"userId\", \"sessionId\").dropDuplicates().groupby(\"userId\").count()\n",
    "user_session_count = user_session_count.withColumnRenamed(\"count\", \"sessionCount\")"
   ]
  },
  {
   "cell_type": "code",
   "execution_count": 34,
   "metadata": {},
   "outputs": [
    {
     "name": "stdout",
     "output_type": "stream",
     "text": [
      "+------+------------+\n",
      "|userId|sessionCount|\n",
      "+------+------------+\n",
      "|100010|           7|\n",
      "|200002|           6|\n",
      "|   125|           1|\n",
      "|    51|          10|\n",
      "|   124|          29|\n",
      "|     7|           7|\n",
      "|    54|          37|\n",
      "|    15|          15|\n",
      "|   155|           6|\n",
      "|100014|           6|\n",
      "+------+------------+\n",
      "only showing top 10 rows\n",
      "\n"
     ]
    }
   ],
   "source": [
    "user_session_count.show(10)"
   ]
  },
  {
   "cell_type": "markdown",
   "metadata": {},
   "source": [
    "Feature 5: gender"
   ]
  },
  {
   "cell_type": "code",
   "execution_count": 35,
   "metadata": {},
   "outputs": [],
   "source": [
    "user_gender = df_withchurn.select(\"userId\", \"gender\").dropDuplicates()\n",
    "user_gender = user_gender.replace([\"M\", \"F\"], [\"0\", \"1\"], \"gender\")\n",
    "user_gender = user_gender.select(\"userId\", user_gender.gender.cast(\"int\"))"
   ]
  },
  {
   "cell_type": "code",
   "execution_count": 36,
   "metadata": {},
   "outputs": [
    {
     "name": "stdout",
     "output_type": "stream",
     "text": [
      "+------+------+\n",
      "|userId|gender|\n",
      "+------+------+\n",
      "|    44|     1|\n",
      "|    46|     1|\n",
      "|    41|     1|\n",
      "|    72|     1|\n",
      "|300023|     1|\n",
      "|    39|     1|\n",
      "|100010|     1|\n",
      "|    40|     1|\n",
      "|    94|     1|\n",
      "|    35|     1|\n",
      "|    75|     1|\n",
      "|   116|     1|\n",
      "|200001|     0|\n",
      "|200020|     0|\n",
      "|100008|     1|\n",
      "|200015|     0|\n",
      "|   100|     0|\n",
      "|100006|     1|\n",
      "|300005|     1|\n",
      "|    25|     1|\n",
      "+------+------+\n",
      "only showing top 20 rows\n",
      "\n"
     ]
    }
   ],
   "source": [
    "user_gender.show(20)"
   ]
  },
  {
   "cell_type": "markdown",
   "metadata": {},
   "source": [
    "Feature 6: whether the user is currently a paid user"
   ]
  },
  {
   "cell_type": "code",
   "execution_count": 37,
   "metadata": {},
   "outputs": [],
   "source": [
    "user_paid = df_withchurn.groupby(\"userId\", \"level\").agg(max(df_withchurn.ts).alias(\"finalTime\")).sort(\"userId\")\n",
    "user_recent_level_time = user_paid.groupby(\"userId\").agg(max(user_paid.finalTime).alias(\"recent\"))\n",
    "user_recent_level = user_recent_level_time.join(user_paid, [user_paid.userId == user_recent_level_time.userId, user_recent_level_time.recent == user_paid.finalTime]).select(user_paid.userId, \"level\").sort(\"userId\")\n",
    "user_recent_level = user_recent_level.replace([\"free\", \"paid\"], [\"0\", \"1\"], \"level\")\n",
    "user_recent_level = user_recent_level.select(\"userId\", user_recent_level.level.cast(\"int\"))"
   ]
  },
  {
   "cell_type": "code",
   "execution_count": 38,
   "metadata": {},
   "outputs": [
    {
     "name": "stdout",
     "output_type": "stream",
     "text": [
      "+------+-----+\n",
      "|userId|level|\n",
      "+------+-----+\n",
      "|      |    1|\n",
      "|    10|    1|\n",
      "|   100|    1|\n",
      "|100001|    0|\n",
      "|100002|    1|\n",
      "|100003|    0|\n",
      "|100004|    1|\n",
      "|100005|    0|\n",
      "|100006|    0|\n",
      "|100007|    1|\n",
      "+------+-----+\n",
      "only showing top 10 rows\n",
      "\n"
     ]
    }
   ],
   "source": [
    "user_recent_level.show(10)"
   ]
  },
  {
   "cell_type": "markdown",
   "metadata": {},
   "source": [
    "Feature 7: frequency of use of pages"
   ]
  },
  {
   "cell_type": "code",
   "execution_count": 39,
   "metadata": {},
   "outputs": [],
   "source": [
    "# get all the type of page\n",
    "page_list = [(row['page']) for row in df_withchurn.select(\"page\").dropDuplicates().collect()]\n",
    "\n",
    "# must remove the column which will cause data leakage\n",
    "page_list.remove(\"Cancel\")\n",
    "page_list.remove(\"Cancellation Confirmation\")\n",
    "\n",
    "# caculate the total page each user view\n",
    "user_page_view_count = df_withchurn.groupby(\"userId\").count()\n",
    "user_page_view_count = user_page_view_count.withColumnRenamed(\"count\", \"pageCount\")\n",
    "\n",
    "\n",
    "for page in page_list:\n",
    "    col_name = \"count\" + page.replace(\" \", \"\")\n",
    "    view_count = df_withchurn.filter(df_withchurn.page==page).groupby(\"userId\").count()\n",
    "    view_count = view_count.withColumnRenamed(\"count\", col_name).withColumnRenamed(\"userId\", \"userIdTemp\")\n",
    "    user_page_view_count = user_page_view_count.join(view_count, user_page_view_count.userId==view_count.userIdTemp, \"left\").drop(\"userIdTemp\")\n",
    "user_page_view_count = user_page_view_count.sort(\"userId\")\n",
    "user_page_view_count = user_page_view_count.fillna(0)"
   ]
  },
  {
   "cell_type": "code",
   "execution_count": 40,
   "metadata": {},
   "outputs": [],
   "source": [
    "col_list = user_page_view_count.columns\n",
    "col_list.remove(\"userId\")\n",
    "col_list.remove(\"pageCount\")\n",
    "freq_sql = \"select userId\"\n",
    "for col in col_list:\n",
    "    col_name = col.replace(\"count\", \"freq\")\n",
    "    sql_str = \", (\" + col + \"/(pageCount/100)) as \" + col_name\n",
    "    freq_sql = freq_sql + sql_str\n",
    "freq_sql = freq_sql + \" from user_page_view_count\"\n",
    "\n",
    "user_page_view_count.createOrReplaceTempView(\"user_page_view_count\")\n",
    "col_list = user_page_view_count.columns\n",
    "col_list.remove(\"userId\")\n",
    "col_list.remove(\"pageCount\")\n",
    "freq_sql = \"select userId\"\n",
    "for col in col_list:\n",
    "    col_name = col.replace(\"count\", \"freq\")\n",
    "    sql_str = \", (\" + col + \"/(pageCount/100)) as \" + col_name\n",
    "    freq_sql = freq_sql + sql_str\n",
    "freq_sql = freq_sql + \" from user_page_view_count\"\n",
    "\n",
    "user_page_view_freq = spark.sql(freq_sql)"
   ]
  },
  {
   "cell_type": "code",
   "execution_count": 41,
   "metadata": {},
   "outputs": [
    {
     "name": "stdout",
     "output_type": "stream",
     "text": [
      "+------+--------------------+------------------+------------------+------------------+-------------------+------------------+-------------------+-------------------+----------------------+-------------------+------------------+-------------------+------------------+------------------+-----------------+------------------+-------------------+--------------------+-------------------+--------------------+\n",
      "|userId| freqSubmitDowngrade|    freqThumbsDown|          freqHome|     freqDowngrade|     freqRollAdvert|        freqLogout|   freqSaveSettings|          freqAbout|freqSubmitRegistration|       freqSettings|         freqLogin|       freqRegister| freqAddtoPlaylist|     freqAddFriend|     freqNextSong|      freqThumbsUp|           freqHelp|         freqUpgrade|          freqError|   freqSubmitUpgrade|\n",
      "+------+--------------------+------------------+------------------+------------------+-------------------+------------------+-------------------+-------------------+----------------------+-------------------+------------------+-------------------+------------------+------------------+-----------------+------------------+-------------------+--------------------+-------------------+--------------------+\n",
      "|      |                 0.0|               0.0|  52.4203211119099|               0.0|                0.0|               0.0|                0.0|  5.140186915887851|  0.059908938413611314|                0.0|38.832973879702855|0.21567217828900073|               0.0|               0.0|              0.0|               0.0| 3.2590462497004555|                 0.0|0.07189072609633358|                 0.0|\n",
      "|    10|                 0.0|0.5031446540880503|3.7735849056603774|0.8805031446540881|0.12578616352201258|1.3836477987421383|0.12578616352201258|0.25157232704402516|                   0.0| 0.8805031446540881|               0.0|                0.0|1.1320754716981132|1.5094339622641508|84.65408805031447| 4.654088050314465|0.12578616352201258|                 0.0|                0.0|                 0.0|\n",
      "|   100|0.031113876789047916|0.8400746733042938| 3.266957062850031|0.9334163036714375| 0.7778469197261979| 1.088985687616677| 0.1555693839452396|0.37336652146857496|                   0.0|0.34225264467952704|               0.0|                0.0| 1.897946484131923|1.5245799626633478|83.44741754822651| 4.604853764779091| 0.5600497822028625|0.031113876789047916|0.09334163036714374|0.031113876789047916|\n",
      "|100001|                 0.0|  1.06951871657754|  5.88235294117647|               0.0| 7.4866310160427805|3.7433155080213902|                0.0|                0.0|                   0.0|   0.53475935828877|               0.0|                0.0|1.6042780748663101|  1.06951871657754|71.12299465240642|  4.27807486631016|   0.53475935828877|    1.06951871657754|   0.53475935828877|                 0.0|\n",
      "|100002|                 0.0|               0.0|2.7522935779816513|0.9174311926605504| 1.3761467889908257|0.4587155963302752|                0.0|                0.0|                   0.0|                0.0|               0.0|                0.0| 2.293577981651376|0.4587155963302752|89.44954128440367| 2.293577981651376|                0.0|                 0.0|                0.0|                 0.0|\n",
      "|100003|                 0.0|               0.0| 8.974358974358974|               0.0| 11.538461538461538| 3.846153846153846|                0.0|                0.0|                   0.0|                0.0|               0.0|                0.0| 2.564102564102564|               0.0|65.38461538461539| 3.846153846153846|  1.282051282051282|                 0.0|                0.0|                 0.0|\n",
      "|100004|  0.1606425702811245|0.8835341365461847| 5.301204819277109|0.8032128514056225|  6.907630522088354|1.5261044176706828| 0.1606425702811245|                0.0|                   0.0| 0.8835341365461847|               0.0|                0.0|1.8473895582329318|1.5261044176706828|75.66265060240964| 2.811244979919679|0.48192771084337355|   0.642570281124498| 0.1606425702811245| 0.24096385542168677|\n",
      "|100005|                 0.0|1.3888888888888888| 6.944444444444444|               0.0|  8.333333333333332|1.3888888888888888|                0.0|                0.0|                   0.0| 0.9259259259259258|               0.0|                0.0|1.3888888888888888|1.3888888888888888|71.29629629629629|3.2407407407407405| 0.9259259259259258|  1.8518518518518516|                0.0|                 0.0|\n",
      "|100006|                 0.0| 4.545454545454546| 4.545454545454546|               0.0|  6.818181818181818| 2.272727272727273|                0.0|                0.0|                   0.0|  2.272727272727273|               0.0|                0.0| 2.272727272727273| 9.090909090909092|59.09090909090909| 4.545454545454546|                0.0|                 0.0|                0.0|                 0.0|\n",
      "|100007|                 0.0|1.1538461538461537| 3.846153846153846| 1.346153846153846| 0.9615384615384615|0.9615384615384615| 0.1923076923076923|                0.0|                   0.0| 0.5769230769230769|               0.0|                0.0|1.7307692307692306| 3.269230769230769|81.34615384615384|3.6538461538461537| 0.5769230769230769|                 0.0|                0.0|                 0.0|\n",
      "+------+--------------------+------------------+------------------+------------------+-------------------+------------------+-------------------+-------------------+----------------------+-------------------+------------------+-------------------+------------------+------------------+-----------------+------------------+-------------------+--------------------+-------------------+--------------------+\n",
      "only showing top 10 rows\n",
      "\n"
     ]
    }
   ],
   "source": [
    "user_page_view_freq.show(10)"
   ]
  },
  {
   "cell_type": "markdown",
   "metadata": {},
   "source": [
    "Feature 8: how many singers have the user heard"
   ]
  },
  {
   "cell_type": "code",
   "execution_count": 42,
   "metadata": {},
   "outputs": [],
   "source": [
    "user_artist_count = df_withchurn.filter(df_withchurn.page==\"NextSong\").select(\"userId\", \"artist\").dropDuplicates().groupby(\"userId\").count()\n",
    "user_artist_count = user_artist_count.withColumnRenamed(\"count\", \"aritstCount\")"
   ]
  },
  {
   "cell_type": "code",
   "execution_count": 43,
   "metadata": {},
   "outputs": [
    {
     "name": "stdout",
     "output_type": "stream",
     "text": [
      "+------+-----------+\n",
      "|userId|aritstCount|\n",
      "+------+-----------+\n",
      "|100010|        252|\n",
      "|200002|        339|\n",
      "|   125|          8|\n",
      "|    51|       1385|\n",
      "|   124|       2232|\n",
      "|     7|        142|\n",
      "|    15|       1302|\n",
      "|    54|       1744|\n",
      "|   155|        643|\n",
      "|   132|       1299|\n",
      "+------+-----------+\n",
      "only showing top 10 rows\n",
      "\n"
     ]
    }
   ],
   "source": [
    "user_artist_count.show(10)"
   ]
  },
  {
   "cell_type": "markdown",
   "metadata": {},
   "source": [
    "Label: churn"
   ]
  },
  {
   "cell_type": "code",
   "execution_count": 44,
   "metadata": {},
   "outputs": [],
   "source": [
    "user_churn = df_withchurn.select(\"userId\", \"churn\").dropDuplicates()\n",
    "user_churn = user_churn.select(\"userId\", user_churn.churn.cast(\"int\"))"
   ]
  },
  {
   "cell_type": "code",
   "execution_count": 45,
   "metadata": {},
   "outputs": [
    {
     "name": "stdout",
     "output_type": "stream",
     "text": [
      "+------+-----+\n",
      "|userId|churn|\n",
      "+------+-----+\n",
      "|    19|    0|\n",
      "|100005|    1|\n",
      "|200007|    0|\n",
      "|300007|    1|\n",
      "|    50|    0|\n",
      "|200002|    0|\n",
      "|    30|    0|\n",
      "|     8|    0|\n",
      "|100011|    1|\n",
      "|100012|    1|\n",
      "+------+-----+\n",
      "only showing top 10 rows\n",
      "\n"
     ]
    }
   ],
   "source": [
    "user_churn.show(10)"
   ]
  },
  {
   "cell_type": "markdown",
   "metadata": {},
   "source": [
    "Put all the features into a dataframe"
   ]
  },
  {
   "cell_type": "code",
   "execution_count": 46,
   "metadata": {},
   "outputs": [],
   "source": [
    "# put all the features dataframe into a list\n",
    "features_list = []\n",
    "features_list.append(user_reg_days)\n",
    "features_list.append(user_session_time_stat)\n",
    "features_list.append(user_session_songs_avg)\n",
    "features_list.append(user_session_count)\n",
    "features_list.append(user_gender)\n",
    "features_list.append(user_recent_level)\n",
    "features_list.append(user_page_view_freq)\n",
    "features_list.append(user_artist_count)\n",
    "features_list.append(user_churn)"
   ]
  },
  {
   "cell_type": "code",
   "execution_count": 47,
   "metadata": {},
   "outputs": [],
   "source": [
    "# prepare the final dataframe to join all the other features\n",
    "df_final = df_withchurn.select(\"userId\").dropDuplicates()"
   ]
  },
  {
   "cell_type": "code",
   "execution_count": 48,
   "metadata": {},
   "outputs": [],
   "source": [
    "def features_merge(df1, df2):\n",
    "    \"\"\"\n",
    "    This function is used to merge the feature using left join\n",
    "    input: two data frame to be merged\n",
    "    output: merged dataframe\n",
    "    \"\"\"\n",
    "    df2 = df2.withColumnRenamed(\"userId\", \"userIdTemp\")\n",
    "    df = df1.join(df2, df1.userId == df2.userIdTemp, \"left\").drop(\"userIdTemp\")\n",
    "    return df"
   ]
  },
  {
   "cell_type": "code",
   "execution_count": 49,
   "metadata": {},
   "outputs": [],
   "source": [
    "# use function to merge the features in the list\n",
    "for feature in features_list:\n",
    "    df_final = features_merge(df_final, feature)"
   ]
  },
  {
   "cell_type": "code",
   "execution_count": 50,
   "metadata": {},
   "outputs": [
    {
     "name": "stdout",
     "output_type": "stream",
     "text": [
      "+------+------------------+------------------+-----------------+------------------+------------------+------------+------+-----+--------------------+------------------+------------------+------------------+-------------------+------------------+-------------------+-------------------+----------------------+-------------------+------------------+-------------------+------------------+------------------+-----------------+------------------+-------------------+--------------------+-------------------+--------------------+-----------+-----+\n",
      "|userId|            regDay|    avgSessionTime|   minSessionTime|    maxSessionTime|   avgSessionSongs|sessionCount|gender|level| freqSubmitDowngrade|    freqThumbsDown|          freqHome|     freqDowngrade|     freqRollAdvert|        freqLogout|   freqSaveSettings|          freqAbout|freqSubmitRegistration|       freqSettings|         freqLogin|       freqRegister| freqAddtoPlaylist|     freqAddFriend|     freqNextSong|      freqThumbsUp|           freqHelp|         freqUpgrade|          freqError|   freqSubmitUpgrade|aritstCount|churn|\n",
      "+------+------------------+------------------+-----------------+------------------+------------------+------------+------+-----+--------------------+------------------+------------------+------------------+-------------------+------------------+-------------------+-------------------+----------------------+-------------------+------------------+-------------------+------------------+------------------+-----------------+------------------+-------------------+--------------------+-------------------+--------------------+-----------+-----+\n",
      "|      |              null| 5838.938684264373|              0.0|          84056.45|              null|        1629|  null|    1|                 0.0|               0.0|  52.4203211119099|               0.0|                0.0|               0.0|                0.0|  5.140186915887851|  0.059908938413611314|                0.0|38.832973879702855|0.21567217828900073|               0.0|               0.0|              0.0|               0.0| 3.2590462497004555|                 0.0|0.07189072609633358|                 0.0|       null|    0|\n",
      "|    10| 51.76265046296297|459.74722222222226|91.41666666666667|1547.9166666666667|112.16666666666667|           6|     0|    1|                 0.0|0.5031446540880503|3.7735849056603774|0.8805031446540881|0.12578616352201258|1.3836477987421383|0.12578616352201258|0.25157232704402516|                   0.0| 0.8805031446540881|               0.0|                0.0|1.1320754716981132|1.5094339622641508|84.65408805031447| 4.654088050314465|0.12578616352201258|                 0.0|                0.0|                 0.0|        565|    0|\n",
      "|   100| 64.87377314814815| 316.5190476190476|              0.0|1019.5833333333334| 78.88235294117646|          35|     0|    1|0.031113876789047916|0.8400746733042938| 3.266957062850031|0.9334163036714375| 0.7778469197261979| 1.088985687616677| 0.1555693839452396|0.37336652146857496|                   0.0|0.34225264467952704|               0.0|                0.0| 1.897946484131923|1.5245799626633478|83.44741754822651| 4.604853764779091| 0.5600497822028625|0.031113876789047916|0.09334163036714374|0.031113876789047916|       1705|    0|\n",
      "|100001| 44.80021990740741|148.15833333333333|             63.0|215.28333333333333|             33.25|           4|     1|    0|                 0.0|  1.06951871657754|  5.88235294117647|               0.0| 7.4866310160427805|3.7433155080213902|                0.0|                0.0|                   0.0|   0.53475935828877|               0.0|                0.0|1.6042780748663101|  1.06951871657754|71.12299465240642|  4.27807486631016|   0.53475935828877|    1.06951871657754|   0.53475935828877|                 0.0|        125|    1|\n",
      "|100002|160.47207175925925|201.18333333333334|              0.0| 730.4666666666667|             48.75|           4|     1|    1|                 0.0|               0.0|2.7522935779816513|0.9174311926605504| 1.3761467889908257|0.4587155963302752|                0.0|                0.0|                   0.0|                0.0|               0.0|                0.0| 2.293577981651376|0.4587155963302752|89.44954128440367| 2.293577981651376|                0.0|                 0.0|                0.0|                 0.0|        184|    0|\n",
      "|100003|22.748113425925926| 99.11666666666667|3.216666666666667|195.01666666666668|              25.5|           2|     1|    0|                 0.0|               0.0| 8.974358974358974|               0.0| 11.538461538461538| 3.846153846153846|                0.0|                0.0|                   0.0|                0.0|               0.0|                0.0| 2.564102564102564|               0.0|65.38461538461539| 3.846153846153846|  1.282051282051282|                 0.0|                0.0|                 0.0|         50|    1|\n",
      "|100004|172.44008101851853|185.98650793650793|              0.0| 940.2166666666667|              47.1|          21|     1|    1|  0.1606425702811245|0.8835341365461847| 5.301204819277109|0.8032128514056225|  6.907630522088354|1.5261044176706828| 0.1606425702811245|                0.0|                   0.0| 0.8835341365461847|               0.0|                0.0|1.8473895582329318|1.5261044176706828|75.66265060240964| 2.811244979919679|0.48192771084337355|   0.642570281124498| 0.1606425702811245| 0.24096385542168677|        733|    0|\n",
      "|100005| 85.19559027777778|120.18666666666668|              0.0|209.21666666666667|              38.5|           5|     0|    0|                 0.0|1.3888888888888888| 6.944444444444444|               0.0|  8.333333333333332|1.3888888888888888|                0.0|                0.0|                   0.0| 0.9259259259259258|               0.0|                0.0|1.3888888888888888|1.3888888888888888|71.29629629629629|3.2407407407407405| 0.9259259259259258|  1.8518518518518516|                0.0|                 0.0|        149|    1|\n",
      "|100006| 9.127164351851851| 93.43333333333334|93.43333333333334| 93.43333333333334|              26.0|           1|     1|    0|                 0.0| 4.545454545454546| 4.545454545454546|               0.0|  6.818181818181818| 2.272727272727273|                0.0|                0.0|                   0.0|  2.272727272727273|               0.0|                0.0| 2.272727272727273| 9.090909090909092|59.09090909090909| 4.545454545454546|                0.0|                 0.0|                0.0|                 0.0|         26|    1|\n",
      "|100007|115.38761574074074|189.41111111111113|              8.9| 675.6333333333333|              47.0|           9|     1|    1|                 0.0|1.1538461538461537| 3.846153846153846| 1.346153846153846| 0.9615384615384615|0.9615384615384615| 0.1923076923076923|                0.0|                   0.0| 0.5769230769230769|               0.0|                0.0|1.7307692307692306| 3.269230769230769|81.34615384615384|3.6538461538461537| 0.5769230769230769|                 0.0|                0.0|                 0.0|        357|    1|\n",
      "+------+------------------+------------------+-----------------+------------------+------------------+------------+------+-----+--------------------+------------------+------------------+------------------+-------------------+------------------+-------------------+-------------------+----------------------+-------------------+------------------+-------------------+------------------+------------------+-----------------+------------------+-------------------+--------------------+-------------------+--------------------+-----------+-----+\n",
      "only showing top 10 rows\n",
      "\n"
     ]
    }
   ],
   "source": [
    "# sort and view the final dataframe\n",
    "df_final = df_final.sort(\"userId\")\n",
    "df_final.persist()\n",
    "df_final.show(10)"
   ]
  },
  {
   "cell_type": "markdown",
   "metadata": {},
   "source": [
    "# Modeling\n",
    "Split the full dataset into train, test, and validation sets. Test out several of the machine learning methods you learned. Evaluate the accuracy of the various models, tuning parameters as necessary. Determine your winning model based on test accuracy and report results on the validation set. Since the churned users are a fairly small subset, I suggest using F1 score as the metric to optimize."
   ]
  },
  {
   "cell_type": "code",
   "execution_count": 51,
   "metadata": {},
   "outputs": [
    {
     "name": "stdout",
     "output_type": "stream",
     "text": [
      "+-----+-----+\n",
      "|churn|count|\n",
      "+-----+-----+\n",
      "|    1|   52|\n",
      "|    0|  174|\n",
      "+-----+-----+\n",
      "\n"
     ]
    }
   ],
   "source": [
    "df_final.groupby(\"churn\").count().show()"
   ]
  },
  {
   "cell_type": "code",
   "execution_count": 52,
   "metadata": {},
   "outputs": [],
   "source": [
    "out_path = \"final_mydata.csv\""
   ]
  },
  {
   "cell_type": "code",
   "execution_count": 54,
   "metadata": {},
   "outputs": [
    {
     "data": {
      "text/plain": [
       "DataFrame[userId: string, regDay: string, avgSessionTime: string, minSessionTime: string, maxSessionTime: string, avgSessionSongs: string, sessionCount: string, gender: string, level: string, freqSubmitDowngrade: string, freqThumbsDown: string, freqHome: string, freqDowngrade: string, freqRollAdvert: string, freqLogout: string, freqSaveSettings: string, freqAbout: string, freqSubmitRegistration: string, freqSettings: string, freqLogin: string, freqRegister: string, freqAddtoPlaylist: string, freqAddFriend: string, freqNextSong: string, freqThumbsUp: string, freqHelp: string, freqUpgrade: string, freqError: string, freqSubmitUpgrade: string, aritstCount: string, churn: string]"
      ]
     },
     "execution_count": 54,
     "metadata": {},
     "output_type": "execute_result"
    }
   ],
   "source": [
    "df_final.write.save(out_path, format=\"csv\", header=True)\n",
    "df_final = spark.read.csv(out_path, header=True)\n",
    "df_final.persist()"
   ]
  },
  {
   "cell_type": "markdown",
   "metadata": {},
   "source": [
    "Convert all the features to numeric."
   ]
  },
  {
   "cell_type": "code",
   "execution_count": 55,
   "metadata": {},
   "outputs": [],
   "source": [
    "num_features_list = df_final.columns[1:]\n",
    "for f in num_features_list:\n",
    "    f_name = f + \"Num\"\n",
    "    df_final = df_final.withColumn(f_name, df_final[f].cast(\"float\"))\n",
    "    df_final = df_final.drop(f)"
   ]
  },
  {
   "cell_type": "markdown",
   "metadata": {},
   "source": [
    "Put the features to be trained into a vector"
   ]
  },
  {
   "cell_type": "code",
   "execution_count": 56,
   "metadata": {},
   "outputs": [
    {
     "data": {
      "text/plain": [
       "226"
      ]
     },
     "execution_count": 56,
     "metadata": {},
     "output_type": "execute_result"
    }
   ],
   "source": [
    "df_final.count()"
   ]
  },
  {
   "cell_type": "code",
   "execution_count": 57,
   "metadata": {},
   "outputs": [
    {
     "data": {
      "text/plain": [
       "Row(userId='6', regDayNum=256.377685546875, avgSessionTimeNum=547.6624755859375, minSessionTimeNum=0.0, maxSessionTimeNum=1913.4166259765625, avgSessionSongsNum=143.59091186523438, sessionCountNum=24.0, genderNum=0.0, levelNum=1.0, freqSubmitDowngradeNum=0.0, freqThumbsDownNum=0.8242488503456116, freqHomeNum=3.509704828262329, freqDowngradeNum=1.0901355743408203, freqRollAdvertNum=0.23929806053638458, freqLogoutNum=1.2762563228607178, freqSaveSettingsNum=0.05317734554409981, freqAboutNum=0.07976602017879486, freqSubmitRegistrationNum=0.0, freqSettingsNum=0.4520074427127838, freqLoginNum=0.0, freqRegisterNum=0.0, freqAddtoPlaylistNum=2.206859827041626, freqAddFriendNum=1.0901355743408203, freqNextSongNum=83.99362182617188, freqThumbsUpNum=4.387131214141846, freqHelpNum=0.6381281614303589, freqUpgradeNum=0.026588672772049904, freqErrorNum=0.10635469108819962, freqSubmitUpgradeNum=0.026588672772049904, aritstCountNum=1868.0, churnNum=0.0)"
      ]
     },
     "execution_count": 57,
     "metadata": {},
     "output_type": "execute_result"
    }
   ],
   "source": [
    "df_final.head()"
   ]
  },
  {
   "cell_type": "code",
   "execution_count": 58,
   "metadata": {},
   "outputs": [],
   "source": [
    "assembler = VectorAssembler(inputCols=df_final.columns[1:-1], outputCol=\"NumFeatures\")"
   ]
  },
  {
   "cell_type": "code",
   "execution_count": 62,
   "metadata": {},
   "outputs": [],
   "source": [
    "assembler = assembler.setHandleInvalid(\"skip\")\n",
    "# qds3.setHandleInvalid(\"skip\").fit(df2).transform(df2).show()\n",
    "data = assembler.transform(df_final)\n",
    "# data = data.setHandleInvalid(\"skip\").fit(data)"
   ]
  },
  {
   "cell_type": "code",
   "execution_count": 61,
   "metadata": {},
   "outputs": [],
   "source": [
    "scaler = StandardScaler(inputCol=\"NumFeatures\", outputCol=\"ScaledNumFeatures\", withStd=True)\n",
    "rf = RandomForestClassifier(numTrees=10)\n",
    "gbtrees = GBTClassifier(maxIter=10)\n",
    "svm = LinearSVC(maxIter=10, regParam=0.1)\n",
    "logReg = LogisticRegression(maxIter=10, regParam=0.3, elasticNetParam=0.8)\n",
    "# DecisionTreeClassifier, NaiveBayes\n",
    "\n",
    "pr = BinaryClassificationEvaluator(metricName='areaUnderPR')\n",
    "roc = BinaryClassificationEvaluator(metricName='areaUnderROC')"
   ]
  },
  {
   "cell_type": "code",
   "execution_count": 63,
   "metadata": {},
   "outputs": [
    {
     "data": {
      "text/plain": [
       "225"
      ]
     },
     "execution_count": 63,
     "metadata": {},
     "output_type": "execute_result"
    }
   ],
   "source": [
    "data.count()\n",
    "# trainingData.explain(extended=True)"
   ]
  },
  {
   "cell_type": "code",
   "execution_count": 64,
   "metadata": {},
   "outputs": [
    {
     "name": "stdout",
     "output_type": "stream",
     "text": [
      "== Parsed Logical Plan ==\n",
      "'Project [*, UDF(named_struct(regDayNum_double_VectorAssembler_795ff0c98998, cast(regDayNum#17649 as double) AS regDayNum_double_VectorAssembler_795ff0c98998#19977, avgSessionTimeNum_double_VectorAssembler_795ff0c98998, cast(avgSessionTimeNum#17713 as double) AS avgSessionTimeNum_double_VectorAssembler_795ff0c98998#19978, minSessionTimeNum_double_VectorAssembler_795ff0c98998, cast(minSessionTimeNum#17777 as double) AS minSessionTimeNum_double_VectorAssembler_795ff0c98998#19979, maxSessionTimeNum_double_VectorAssembler_795ff0c98998, cast(maxSessionTimeNum#17841 as double) AS maxSessionTimeNum_double_VectorAssembler_795ff0c98998#19980, avgSessionSongsNum_double_VectorAssembler_795ff0c98998, cast(avgSessionSongsNum#17905 as double) AS avgSessionSongsNum_double_VectorAssembler_795ff0c98998#19981, sessionCountNum_double_VectorAssembler_795ff0c98998, cast(sessionCountNum#17969 as double) AS sessionCountNum_double_VectorAssembler_795ff0c98998#19982, genderNum_double_VectorAssembler_795ff0c98998, cast(genderNum#18033 as double) AS genderNum_double_VectorAssembler_795ff0c98998#19983, levelNum_double_VectorAssembler_795ff0c98998, cast(levelNum#18097 as double) AS levelNum_double_VectorAssembler_795ff0c98998#19984, freqSubmitDowngradeNum_double_VectorAssembler_795ff0c98998, cast(freqSubmitDowngradeNum#18161 as double) AS freqSubmitDowngradeNum_double_VectorAssembler_795ff0c98998#19985, freqThumbsDownNum_double_VectorAssembler_795ff0c98998, cast(freqThumbsDownNum#18225 as double) AS freqThumbsDownNum_double_VectorAssembler_795ff0c98998#19986, freqHomeNum_double_VectorAssembler_795ff0c98998, cast(freqHomeNum#18289 as double) AS freqHomeNum_double_VectorAssembler_795ff0c98998#19987, freqDowngradeNum_double_VectorAssembler_795ff0c98998, cast(freqDowngradeNum#18353 as double) AS freqDowngradeNum_double_VectorAssembler_795ff0c98998#19988, ... 34 more fields)) AS NumFeatures#20006]\n",
      "+- Filter AtLeastNNulls(n, regDayNum#17649,avgSessionTimeNum#17713,minSessionTimeNum#17777,maxSessionTimeNum#17841,avgSessionSongsNum#17905,sessionCountNum#17969,genderNum#18033,levelNum#18097,freqSubmitDowngradeNum#18161,freqThumbsDownNum#18225,freqHomeNum#18289,freqDowngradeNum#18353,freqRollAdvertNum#18417,freqLogoutNum#18481,freqSaveSettingsNum#18545,freqAboutNum#18609,freqSubmitRegistrationNum#18673,freqSettingsNum#18737,freqLoginNum#18801,freqRegisterNum#18865,freqAddtoPlaylistNum#18929,freqAddFriendNum#18993,freqNextSongNum#19057,freqThumbsUpNum#19121,freqHelpNum#19185,freqUpgradeNum#19249,freqErrorNum#19313,freqSubmitUpgradeNum#19377,aritstCountNum#19441)\n",
      "   +- Project [userId#17432, regDayNum#17649, avgSessionTimeNum#17713, minSessionTimeNum#17777, maxSessionTimeNum#17841, avgSessionSongsNum#17905, sessionCountNum#17969, genderNum#18033, levelNum#18097, freqSubmitDowngradeNum#18161, freqThumbsDownNum#18225, freqHomeNum#18289, freqDowngradeNum#18353, freqRollAdvertNum#18417, freqLogoutNum#18481, freqSaveSettingsNum#18545, freqAboutNum#18609, freqSubmitRegistrationNum#18673, freqSettingsNum#18737, freqLoginNum#18801, freqRegisterNum#18865, freqAddtoPlaylistNum#18929, freqAddFriendNum#18993, freqNextSongNum#19057, ... 7 more fields]\n",
      "      +- Project [userId#17432, churn#17462, regDayNum#17649, avgSessionTimeNum#17713, minSessionTimeNum#17777, maxSessionTimeNum#17841, avgSessionSongsNum#17905, sessionCountNum#17969, genderNum#18033, levelNum#18097, freqSubmitDowngradeNum#18161, freqThumbsDownNum#18225, freqHomeNum#18289, freqDowngradeNum#18353, freqRollAdvertNum#18417, freqLogoutNum#18481, freqSaveSettingsNum#18545, freqAboutNum#18609, freqSubmitRegistrationNum#18673, freqSettingsNum#18737, freqLoginNum#18801, freqRegisterNum#18865, freqAddtoPlaylistNum#18929, freqAddFriendNum#18993, ... 8 more fields]\n",
      "         +- Project [userId#17432, churn#17462, regDayNum#17649, avgSessionTimeNum#17713, minSessionTimeNum#17777, maxSessionTimeNum#17841, avgSessionSongsNum#17905, sessionCountNum#17969, genderNum#18033, levelNum#18097, freqSubmitDowngradeNum#18161, freqThumbsDownNum#18225, freqHomeNum#18289, freqDowngradeNum#18353, freqRollAdvertNum#18417, freqLogoutNum#18481, freqSaveSettingsNum#18545, freqAboutNum#18609, freqSubmitRegistrationNum#18673, freqSettingsNum#18737, freqLoginNum#18801, freqRegisterNum#18865, freqAddtoPlaylistNum#18929, freqAddFriendNum#18993, ... 7 more fields]\n",
      "            +- Project [userId#17432, aritstCount#17461, churn#17462, regDayNum#17649, avgSessionTimeNum#17713, minSessionTimeNum#17777, maxSessionTimeNum#17841, avgSessionSongsNum#17905, sessionCountNum#17969, genderNum#18033, levelNum#18097, freqSubmitDowngradeNum#18161, freqThumbsDownNum#18225, freqHomeNum#18289, freqDowngradeNum#18353, freqRollAdvertNum#18417, freqLogoutNum#18481, freqSaveSettingsNum#18545, freqAboutNum#18609, freqSubmitRegistrationNum#18673, freqSettingsNum#18737, freqLoginNum#18801, freqRegisterNum#18865, freqAddtoPlaylistNum#18929, ... 8 more fields]\n",
      "               +- Project [userId#17432, aritstCount#17461, churn#17462, regDayNum#17649, avgSessionTimeNum#17713, minSessionTimeNum#17777, maxSessionTimeNum#17841, avgSessionSongsNum#17905, sessionCountNum#17969, genderNum#18033, levelNum#18097, freqSubmitDowngradeNum#18161, freqThumbsDownNum#18225, freqHomeNum#18289, freqDowngradeNum#18353, freqRollAdvertNum#18417, freqLogoutNum#18481, freqSaveSettingsNum#18545, freqAboutNum#18609, freqSubmitRegistrationNum#18673, freqSettingsNum#18737, freqLoginNum#18801, freqRegisterNum#18865, freqAddtoPlaylistNum#18929, ... 7 more fields]\n",
      "                  +- Project [userId#17432, freqSubmitUpgrade#17460, aritstCount#17461, churn#17462, regDayNum#17649, avgSessionTimeNum#17713, minSessionTimeNum#17777, maxSessionTimeNum#17841, avgSessionSongsNum#17905, sessionCountNum#17969, genderNum#18033, levelNum#18097, freqSubmitDowngradeNum#18161, freqThumbsDownNum#18225, freqHomeNum#18289, freqDowngradeNum#18353, freqRollAdvertNum#18417, freqLogoutNum#18481, freqSaveSettingsNum#18545, freqAboutNum#18609, freqSubmitRegistrationNum#18673, freqSettingsNum#18737, freqLoginNum#18801, freqRegisterNum#18865, ... 8 more fields]\n",
      "                     +- Project [userId#17432, freqSubmitUpgrade#17460, aritstCount#17461, churn#17462, regDayNum#17649, avgSessionTimeNum#17713, minSessionTimeNum#17777, maxSessionTimeNum#17841, avgSessionSongsNum#17905, sessionCountNum#17969, genderNum#18033, levelNum#18097, freqSubmitDowngradeNum#18161, freqThumbsDownNum#18225, freqHomeNum#18289, freqDowngradeNum#18353, freqRollAdvertNum#18417, freqLogoutNum#18481, freqSaveSettingsNum#18545, freqAboutNum#18609, freqSubmitRegistrationNum#18673, freqSettingsNum#18737, freqLoginNum#18801, freqRegisterNum#18865, ... 7 more fields]\n",
      "                        +- Project [userId#17432, freqError#17459, freqSubmitUpgrade#17460, aritstCount#17461, churn#17462, regDayNum#17649, avgSessionTimeNum#17713, minSessionTimeNum#17777, maxSessionTimeNum#17841, avgSessionSongsNum#17905, sessionCountNum#17969, genderNum#18033, levelNum#18097, freqSubmitDowngradeNum#18161, freqThumbsDownNum#18225, freqHomeNum#18289, freqDowngradeNum#18353, freqRollAdvertNum#18417, freqLogoutNum#18481, freqSaveSettingsNum#18545, freqAboutNum#18609, freqSubmitRegistrationNum#18673, freqSettingsNum#18737, freqLoginNum#18801, ... 8 more fields]\n",
      "                           +- Project [userId#17432, freqError#17459, freqSubmitUpgrade#17460, aritstCount#17461, churn#17462, regDayNum#17649, avgSessionTimeNum#17713, minSessionTimeNum#17777, maxSessionTimeNum#17841, avgSessionSongsNum#17905, sessionCountNum#17969, genderNum#18033, levelNum#18097, freqSubmitDowngradeNum#18161, freqThumbsDownNum#18225, freqHomeNum#18289, freqDowngradeNum#18353, freqRollAdvertNum#18417, freqLogoutNum#18481, freqSaveSettingsNum#18545, freqAboutNum#18609, freqSubmitRegistrationNum#18673, freqSettingsNum#18737, freqLoginNum#18801, ... 7 more fields]\n",
      "                              +- Project [userId#17432, freqUpgrade#17458, freqError#17459, freqSubmitUpgrade#17460, aritstCount#17461, churn#17462, regDayNum#17649, avgSessionTimeNum#17713, minSessionTimeNum#17777, maxSessionTimeNum#17841, avgSessionSongsNum#17905, sessionCountNum#17969, genderNum#18033, levelNum#18097, freqSubmitDowngradeNum#18161, freqThumbsDownNum#18225, freqHomeNum#18289, freqDowngradeNum#18353, freqRollAdvertNum#18417, freqLogoutNum#18481, freqSaveSettingsNum#18545, freqAboutNum#18609, freqSubmitRegistrationNum#18673, freqSettingsNum#18737, ... 8 more fields]\n",
      "                                 +- Project [userId#17432, freqUpgrade#17458, freqError#17459, freqSubmitUpgrade#17460, aritstCount#17461, churn#17462, regDayNum#17649, avgSessionTimeNum#17713, minSessionTimeNum#17777, maxSessionTimeNum#17841, avgSessionSongsNum#17905, sessionCountNum#17969, genderNum#18033, levelNum#18097, freqSubmitDowngradeNum#18161, freqThumbsDownNum#18225, freqHomeNum#18289, freqDowngradeNum#18353, freqRollAdvertNum#18417, freqLogoutNum#18481, freqSaveSettingsNum#18545, freqAboutNum#18609, freqSubmitRegistrationNum#18673, freqSettingsNum#18737, ... 7 more fields]\n",
      "                                    +- Project [userId#17432, freqHelp#17457, freqUpgrade#17458, freqError#17459, freqSubmitUpgrade#17460, aritstCount#17461, churn#17462, regDayNum#17649, avgSessionTimeNum#17713, minSessionTimeNum#17777, maxSessionTimeNum#17841, avgSessionSongsNum#17905, sessionCountNum#17969, genderNum#18033, levelNum#18097, freqSubmitDowngradeNum#18161, freqThumbsDownNum#18225, freqHomeNum#18289, freqDowngradeNum#18353, freqRollAdvertNum#18417, freqLogoutNum#18481, freqSaveSettingsNum#18545, freqAboutNum#18609, freqSubmitRegistrationNum#18673, ... 8 more fields]\n",
      "                                       +- Project [userId#17432, freqHelp#17457, freqUpgrade#17458, freqError#17459, freqSubmitUpgrade#17460, aritstCount#17461, churn#17462, regDayNum#17649, avgSessionTimeNum#17713, minSessionTimeNum#17777, maxSessionTimeNum#17841, avgSessionSongsNum#17905, sessionCountNum#17969, genderNum#18033, levelNum#18097, freqSubmitDowngradeNum#18161, freqThumbsDownNum#18225, freqHomeNum#18289, freqDowngradeNum#18353, freqRollAdvertNum#18417, freqLogoutNum#18481, freqSaveSettingsNum#18545, freqAboutNum#18609, freqSubmitRegistrationNum#18673, ... 7 more fields]\n",
      "                                          +- Project [userId#17432, freqThumbsUp#17456, freqHelp#17457, freqUpgrade#17458, freqError#17459, freqSubmitUpgrade#17460, aritstCount#17461, churn#17462, regDayNum#17649, avgSessionTimeNum#17713, minSessionTimeNum#17777, maxSessionTimeNum#17841, avgSessionSongsNum#17905, sessionCountNum#17969, genderNum#18033, levelNum#18097, freqSubmitDowngradeNum#18161, freqThumbsDownNum#18225, freqHomeNum#18289, freqDowngradeNum#18353, freqRollAdvertNum#18417, freqLogoutNum#18481, freqSaveSettingsNum#18545, freqAboutNum#18609, ... 8 more fields]\n",
      "                                             +- Project [userId#17432, freqThumbsUp#17456, freqHelp#17457, freqUpgrade#17458, freqError#17459, freqSubmitUpgrade#17460, aritstCount#17461, churn#17462, regDayNum#17649, avgSessionTimeNum#17713, minSessionTimeNum#17777, maxSessionTimeNum#17841, avgSessionSongsNum#17905, sessionCountNum#17969, genderNum#18033, levelNum#18097, freqSubmitDowngradeNum#18161, freqThumbsDownNum#18225, freqHomeNum#18289, freqDowngradeNum#18353, freqRollAdvertNum#18417, freqLogoutNum#18481, freqSaveSettingsNum#18545, freqAboutNum#18609, ... 7 more fields]\n",
      "                                                +- Project [userId#17432, freqNextSong#17455, freqThumbsUp#17456, freqHelp#17457, freqUpgrade#17458, freqError#17459, freqSubmitUpgrade#17460, aritstCount#17461, churn#17462, regDayNum#17649, avgSessionTimeNum#17713, minSessionTimeNum#17777, maxSessionTimeNum#17841, avgSessionSongsNum#17905, sessionCountNum#17969, genderNum#18033, levelNum#18097, freqSubmitDowngradeNum#18161, freqThumbsDownNum#18225, freqHomeNum#18289, freqDowngradeNum#18353, freqRollAdvertNum#18417, freqLogoutNum#18481, freqSaveSettingsNum#18545, ... 8 more fields]\n",
      "                                                   +- Project [userId#17432, freqNextSong#17455, freqThumbsUp#17456, freqHelp#17457, freqUpgrade#17458, freqError#17459, freqSubmitUpgrade#17460, aritstCount#17461, churn#17462, regDayNum#17649, avgSessionTimeNum#17713, minSessionTimeNum#17777, maxSessionTimeNum#17841, avgSessionSongsNum#17905, sessionCountNum#17969, genderNum#18033, levelNum#18097, freqSubmitDowngradeNum#18161, freqThumbsDownNum#18225, freqHomeNum#18289, freqDowngradeNum#18353, freqRollAdvertNum#18417, freqLogoutNum#18481, freqSaveSettingsNum#18545, ... 7 more fields]\n",
      "                                                      +- Project [userId#17432, freqAddFriend#17454, freqNextSong#17455, freqThumbsUp#17456, freqHelp#17457, freqUpgrade#17458, freqError#17459, freqSubmitUpgrade#17460, aritstCount#17461, churn#17462, regDayNum#17649, avgSessionTimeNum#17713, minSessionTimeNum#17777, maxSessionTimeNum#17841, avgSessionSongsNum#17905, sessionCountNum#17969, genderNum#18033, levelNum#18097, freqSubmitDowngradeNum#18161, freqThumbsDownNum#18225, freqHomeNum#18289, freqDowngradeNum#18353, freqRollAdvertNum#18417, freqLogoutNum#18481, ... 8 more fields]\n",
      "                                                         +- Project [userId#17432, freqAddFriend#17454, freqNextSong#17455, freqThumbsUp#17456, freqHelp#17457, freqUpgrade#17458, freqError#17459, freqSubmitUpgrade#17460, aritstCount#17461, churn#17462, regDayNum#17649, avgSessionTimeNum#17713, minSessionTimeNum#17777, maxSessionTimeNum#17841, avgSessionSongsNum#17905, sessionCountNum#17969, genderNum#18033, levelNum#18097, freqSubmitDowngradeNum#18161, freqThumbsDownNum#18225, freqHomeNum#18289, freqDowngradeNum#18353, freqRollAdvertNum#18417, freqLogoutNum#18481, ... 7 more fields]\n",
      "                                                            +- Project [userId#17432, freqAddtoPlaylist#17453, freqAddFriend#17454, freqNextSong#17455, freqThumbsUp#17456, freqHelp#17457, freqUpgrade#17458, freqError#17459, freqSubmitUpgrade#17460, aritstCount#17461, churn#17462, regDayNum#17649, avgSessionTimeNum#17713, minSessionTimeNum#17777, maxSessionTimeNum#17841, avgSessionSongsNum#17905, sessionCountNum#17969, genderNum#18033, levelNum#18097, freqSubmitDowngradeNum#18161, freqThumbsDownNum#18225, freqHomeNum#18289, freqDowngradeNum#18353, freqRollAdvertNum#18417, ... 8 more fields]\n",
      "                                                               +- Project [userId#17432, freqAddtoPlaylist#17453, freqAddFriend#17454, freqNextSong#17455, freqThumbsUp#17456, freqHelp#17457, freqUpgrade#17458, freqError#17459, freqSubmitUpgrade#17460, aritstCount#17461, churn#17462, regDayNum#17649, avgSessionTimeNum#17713, minSessionTimeNum#17777, maxSessionTimeNum#17841, avgSessionSongsNum#17905, sessionCountNum#17969, genderNum#18033, levelNum#18097, freqSubmitDowngradeNum#18161, freqThumbsDownNum#18225, freqHomeNum#18289, freqDowngradeNum#18353, freqRollAdvertNum#18417, ... 7 more fields]\n",
      "                                                                  +- Project [userId#17432, freqRegister#17452, freqAddtoPlaylist#17453, freqAddFriend#17454, freqNextSong#17455, freqThumbsUp#17456, freqHelp#17457, freqUpgrade#17458, freqError#17459, freqSubmitUpgrade#17460, aritstCount#17461, churn#17462, regDayNum#17649, avgSessionTimeNum#17713, minSessionTimeNum#17777, maxSessionTimeNum#17841, avgSessionSongsNum#17905, sessionCountNum#17969, genderNum#18033, levelNum#18097, freqSubmitDowngradeNum#18161, freqThumbsDownNum#18225, freqHomeNum#18289, freqDowngradeNum#18353, ... 8 more fields]\n",
      "                                                                     +- Project [userId#17432, freqRegister#17452, freqAddtoPlaylist#17453, freqAddFriend#17454, freqNextSong#17455, freqThumbsUp#17456, freqHelp#17457, freqUpgrade#17458, freqError#17459, freqSubmitUpgrade#17460, aritstCount#17461, churn#17462, regDayNum#17649, avgSessionTimeNum#17713, minSessionTimeNum#17777, maxSessionTimeNum#17841, avgSessionSongsNum#17905, sessionCountNum#17969, genderNum#18033, levelNum#18097, freqSubmitDowngradeNum#18161, freqThumbsDownNum#18225, freqHomeNum#18289, freqDowngradeNum#18353, ... 7 more fields]\n",
      "                                                                        +- Project [userId#17432, freqLogin#17451, freqRegister#17452, freqAddtoPlaylist#17453, freqAddFriend#17454, freqNextSong#17455, freqThumbsUp#17456, freqHelp#17457, freqUpgrade#17458, freqError#17459, freqSubmitUpgrade#17460, aritstCount#17461, churn#17462, regDayNum#17649, avgSessionTimeNum#17713, minSessionTimeNum#17777, maxSessionTimeNum#17841, avgSessionSongsNum#17905, sessionCountNum#17969, genderNum#18033, levelNum#18097, freqSubmitDowngradeNum#18161, freqThumbsDownNum#18225, freqHomeNum#18289, ... 8 more fields]\n",
      "                                                                           +- Project [userId#17432, freqLogin#17451, freqRegister#17452, freqAddtoPlaylist#17453, freqAddFriend#17454, freqNextSong#17455, freqThumbsUp#17456, freqHelp#17457, freqUpgrade#17458, freqError#17459, freqSubmitUpgrade#17460, aritstCount#17461, churn#17462, regDayNum#17649, avgSessionTimeNum#17713, minSessionTimeNum#17777, maxSessionTimeNum#17841, avgSessionSongsNum#17905, sessionCountNum#17969, genderNum#18033, levelNum#18097, freqSubmitDowngradeNum#18161, freqThumbsDownNum#18225, freqHomeNum#18289, ... 7 more fields]\n",
      "                                                                              +- Project [userId#17432, freqSettings#17450, freqLogin#17451, freqRegister#17452, freqAddtoPlaylist#17453, freqAddFriend#17454, freqNextSong#17455, freqThumbsUp#17456, freqHelp#17457, freqUpgrade#17458, freqError#17459, freqSubmitUpgrade#17460, aritstCount#17461, churn#17462, regDayNum#17649, avgSessionTimeNum#17713, minSessionTimeNum#17777, maxSessionTimeNum#17841, avgSessionSongsNum#17905, sessionCountNum#17969, genderNum#18033, levelNum#18097, freqSubmitDowngradeNum#18161, freqThumbsDownNum#18225, ... 8 more fields]\n",
      "                                                                                 +- Project [userId#17432, freqSettings#17450, freqLogin#17451, freqRegister#17452, freqAddtoPlaylist#17453, freqAddFriend#17454, freqNextSong#17455, freqThumbsUp#17456, freqHelp#17457, freqUpgrade#17458, freqError#17459, freqSubmitUpgrade#17460, aritstCount#17461, churn#17462, regDayNum#17649, avgSessionTimeNum#17713, minSessionTimeNum#17777, maxSessionTimeNum#17841, avgSessionSongsNum#17905, sessionCountNum#17969, genderNum#18033, levelNum#18097, freqSubmitDowngradeNum#18161, freqThumbsDownNum#18225, ... 7 more fields]\n",
      "                                                                                    +- Project [userId#17432, freqSubmitRegistration#17449, freqSettings#17450, freqLogin#17451, freqRegister#17452, freqAddtoPlaylist#17453, freqAddFriend#17454, freqNextSong#17455, freqThumbsUp#17456, freqHelp#17457, freqUpgrade#17458, freqError#17459, freqSubmitUpgrade#17460, aritstCount#17461, churn#17462, regDayNum#17649, avgSessionTimeNum#17713, minSessionTimeNum#17777, maxSessionTimeNum#17841, avgSessionSongsNum#17905, sessionCountNum#17969, genderNum#18033, levelNum#18097, freqSubmitDowngradeNum#18161, ... 8 more fields]\n",
      "                                                                                       +- Project [userId#17432, freqSubmitRegistration#17449, freqSettings#17450, freqLogin#17451, freqRegister#17452, freqAddtoPlaylist#17453, freqAddFriend#17454, freqNextSong#17455, freqThumbsUp#17456, freqHelp#17457, freqUpgrade#17458, freqError#17459, freqSubmitUpgrade#17460, aritstCount#17461, churn#17462, regDayNum#17649, avgSessionTimeNum#17713, minSessionTimeNum#17777, maxSessionTimeNum#17841, avgSessionSongsNum#17905, sessionCountNum#17969, genderNum#18033, levelNum#18097, freqSubmitDowngradeNum#18161, ... 7 more fields]\n",
      "                                                                                          +- Project [userId#17432, freqAbout#17448, freqSubmitRegistration#17449, freqSettings#17450, freqLogin#17451, freqRegister#17452, freqAddtoPlaylist#17453, freqAddFriend#17454, freqNextSong#17455, freqThumbsUp#17456, freqHelp#17457, freqUpgrade#17458, freqError#17459, freqSubmitUpgrade#17460, aritstCount#17461, churn#17462, regDayNum#17649, avgSessionTimeNum#17713, minSessionTimeNum#17777, maxSessionTimeNum#17841, avgSessionSongsNum#17905, sessionCountNum#17969, genderNum#18033, levelNum#18097, ... 8 more fields]\n",
      "                                                                                             +- Project [userId#17432, freqAbout#17448, freqSubmitRegistration#17449, freqSettings#17450, freqLogin#17451, freqRegister#17452, freqAddtoPlaylist#17453, freqAddFriend#17454, freqNextSong#17455, freqThumbsUp#17456, freqHelp#17457, freqUpgrade#17458, freqError#17459, freqSubmitUpgrade#17460, aritstCount#17461, churn#17462, regDayNum#17649, avgSessionTimeNum#17713, minSessionTimeNum#17777, maxSessionTimeNum#17841, avgSessionSongsNum#17905, sessionCountNum#17969, genderNum#18033, levelNum#18097, ... 7 more fields]\n",
      "                                                                                                +- Project [userId#17432, freqSaveSettings#17447, freqAbout#17448, freqSubmitRegistration#17449, freqSettings#17450, freqLogin#17451, freqRegister#17452, freqAddtoPlaylist#17453, freqAddFriend#17454, freqNextSong#17455, freqThumbsUp#17456, freqHelp#17457, freqUpgrade#17458, freqError#17459, freqSubmitUpgrade#17460, aritstCount#17461, churn#17462, regDayNum#17649, avgSessionTimeNum#17713, minSessionTimeNum#17777, maxSessionTimeNum#17841, avgSessionSongsNum#17905, sessionCountNum#17969, genderNum#18033, ... 8 more fields]\n",
      "                                                                                                   +- Project [userId#17432, freqSaveSettings#17447, freqAbout#17448, freqSubmitRegistration#17449, freqSettings#17450, freqLogin#17451, freqRegister#17452, freqAddtoPlaylist#17453, freqAddFriend#17454, freqNextSong#17455, freqThumbsUp#17456, freqHelp#17457, freqUpgrade#17458, freqError#17459, freqSubmitUpgrade#17460, aritstCount#17461, churn#17462, regDayNum#17649, avgSessionTimeNum#17713, minSessionTimeNum#17777, maxSessionTimeNum#17841, avgSessionSongsNum#17905, sessionCountNum#17969, genderNum#18033, ... 7 more fields]\n",
      "                                                                                                      +- Project [userId#17432, freqLogout#17446, freqSaveSettings#17447, freqAbout#17448, freqSubmitRegistration#17449, freqSettings#17450, freqLogin#17451, freqRegister#17452, freqAddtoPlaylist#17453, freqAddFriend#17454, freqNextSong#17455, freqThumbsUp#17456, freqHelp#17457, freqUpgrade#17458, freqError#17459, freqSubmitUpgrade#17460, aritstCount#17461, churn#17462, regDayNum#17649, avgSessionTimeNum#17713, minSessionTimeNum#17777, maxSessionTimeNum#17841, avgSessionSongsNum#17905, sessionCountNum#17969, ... 8 more fields]\n",
      "                                                                                                         +- Project [userId#17432, freqLogout#17446, freqSaveSettings#17447, freqAbout#17448, freqSubmitRegistration#17449, freqSettings#17450, freqLogin#17451, freqRegister#17452, freqAddtoPlaylist#17453, freqAddFriend#17454, freqNextSong#17455, freqThumbsUp#17456, freqHelp#17457, freqUpgrade#17458, freqError#17459, freqSubmitUpgrade#17460, aritstCount#17461, churn#17462, regDayNum#17649, avgSessionTimeNum#17713, minSessionTimeNum#17777, maxSessionTimeNum#17841, avgSessionSongsNum#17905, sessionCountNum#17969, ... 7 more fields]\n",
      "                                                                                                            +- Project [userId#17432, freqRollAdvert#17445, freqLogout#17446, freqSaveSettings#17447, freqAbout#17448, freqSubmitRegistration#17449, freqSettings#17450, freqLogin#17451, freqRegister#17452, freqAddtoPlaylist#17453, freqAddFriend#17454, freqNextSong#17455, freqThumbsUp#17456, freqHelp#17457, freqUpgrade#17458, freqError#17459, freqSubmitUpgrade#17460, aritstCount#17461, churn#17462, regDayNum#17649, avgSessionTimeNum#17713, minSessionTimeNum#17777, maxSessionTimeNum#17841, avgSessionSongsNum#17905, ... 8 more fields]\n",
      "                                                                                                               +- Project [userId#17432, freqRollAdvert#17445, freqLogout#17446, freqSaveSettings#17447, freqAbout#17448, freqSubmitRegistration#17449, freqSettings#17450, freqLogin#17451, freqRegister#17452, freqAddtoPlaylist#17453, freqAddFriend#17454, freqNextSong#17455, freqThumbsUp#17456, freqHelp#17457, freqUpgrade#17458, freqError#17459, freqSubmitUpgrade#17460, aritstCount#17461, churn#17462, regDayNum#17649, avgSessionTimeNum#17713, minSessionTimeNum#17777, maxSessionTimeNum#17841, avgSessionSongsNum#17905, ... 7 more fields]\n",
      "                                                                                                                  +- Project [userId#17432, freqDowngrade#17444, freqRollAdvert#17445, freqLogout#17446, freqSaveSettings#17447, freqAbout#17448, freqSubmitRegistration#17449, freqSettings#17450, freqLogin#17451, freqRegister#17452, freqAddtoPlaylist#17453, freqAddFriend#17454, freqNextSong#17455, freqThumbsUp#17456, freqHelp#17457, freqUpgrade#17458, freqError#17459, freqSubmitUpgrade#17460, aritstCount#17461, churn#17462, regDayNum#17649, avgSessionTimeNum#17713, minSessionTimeNum#17777, maxSessionTimeNum#17841, ... 8 more fields]\n",
      "                                                                                                                     +- Project [userId#17432, freqDowngrade#17444, freqRollAdvert#17445, freqLogout#17446, freqSaveSettings#17447, freqAbout#17448, freqSubmitRegistration#17449, freqSettings#17450, freqLogin#17451, freqRegister#17452, freqAddtoPlaylist#17453, freqAddFriend#17454, freqNextSong#17455, freqThumbsUp#17456, freqHelp#17457, freqUpgrade#17458, freqError#17459, freqSubmitUpgrade#17460, aritstCount#17461, churn#17462, regDayNum#17649, avgSessionTimeNum#17713, minSessionTimeNum#17777, maxSessionTimeNum#17841, ... 7 more fields]\n",
      "                                                                                                                        +- Project [userId#17432, freqHome#17443, freqDowngrade#17444, freqRollAdvert#17445, freqLogout#17446, freqSaveSettings#17447, freqAbout#17448, freqSubmitRegistration#17449, freqSettings#17450, freqLogin#17451, freqRegister#17452, freqAddtoPlaylist#17453, freqAddFriend#17454, freqNextSong#17455, freqThumbsUp#17456, freqHelp#17457, freqUpgrade#17458, freqError#17459, freqSubmitUpgrade#17460, aritstCount#17461, churn#17462, regDayNum#17649, avgSessionTimeNum#17713, minSessionTimeNum#17777, ... 8 more fields]\n",
      "                                                                                                                           +- Project [userId#17432, freqHome#17443, freqDowngrade#17444, freqRollAdvert#17445, freqLogout#17446, freqSaveSettings#17447, freqAbout#17448, freqSubmitRegistration#17449, freqSettings#17450, freqLogin#17451, freqRegister#17452, freqAddtoPlaylist#17453, freqAddFriend#17454, freqNextSong#17455, freqThumbsUp#17456, freqHelp#17457, freqUpgrade#17458, freqError#17459, freqSubmitUpgrade#17460, aritstCount#17461, churn#17462, regDayNum#17649, avgSessionTimeNum#17713, minSessionTimeNum#17777, ... 7 more fields]\n",
      "                                                                                                                              +- Project [userId#17432, freqThumbsDown#17442, freqHome#17443, freqDowngrade#17444, freqRollAdvert#17445, freqLogout#17446, freqSaveSettings#17447, freqAbout#17448, freqSubmitRegistration#17449, freqSettings#17450, freqLogin#17451, freqRegister#17452, freqAddtoPlaylist#17453, freqAddFriend#17454, freqNextSong#17455, freqThumbsUp#17456, freqHelp#17457, freqUpgrade#17458, freqError#17459, freqSubmitUpgrade#17460, aritstCount#17461, churn#17462, regDayNum#17649, avgSessionTimeNum#17713, ... 8 more fields]\n",
      "                                                                                                                                 +- Project [userId#17432, freqThumbsDown#17442, freqHome#17443, freqDowngrade#17444, freqRollAdvert#17445, freqLogout#17446, freqSaveSettings#17447, freqAbout#17448, freqSubmitRegistration#17449, freqSettings#17450, freqLogin#17451, freqRegister#17452, freqAddtoPlaylist#17453, freqAddFriend#17454, freqNextSong#17455, freqThumbsUp#17456, freqHelp#17457, freqUpgrade#17458, freqError#17459, freqSubmitUpgrade#17460, aritstCount#17461, churn#17462, regDayNum#17649, avgSessionTimeNum#17713, ... 7 more fields]\n",
      "                                                                                                                                    +- Project [userId#17432, freqSubmitDowngrade#17441, freqThumbsDown#17442, freqHome#17443, freqDowngrade#17444, freqRollAdvert#17445, freqLogout#17446, freqSaveSettings#17447, freqAbout#17448, freqSubmitRegistration#17449, freqSettings#17450, freqLogin#17451, freqRegister#17452, freqAddtoPlaylist#17453, freqAddFriend#17454, freqNextSong#17455, freqThumbsUp#17456, freqHelp#17457, freqUpgrade#17458, freqError#17459, freqSubmitUpgrade#17460, aritstCount#17461, churn#17462, regDayNum#17649, ... 8 more fields]\n",
      "                                                                                                                                       +- Project [userId#17432, freqSubmitDowngrade#17441, freqThumbsDown#17442, freqHome#17443, freqDowngrade#17444, freqRollAdvert#17445, freqLogout#17446, freqSaveSettings#17447, freqAbout#17448, freqSubmitRegistration#17449, freqSettings#17450, freqLogin#17451, freqRegister#17452, freqAddtoPlaylist#17453, freqAddFriend#17454, freqNextSong#17455, freqThumbsUp#17456, freqHelp#17457, freqUpgrade#17458, freqError#17459, freqSubmitUpgrade#17460, aritstCount#17461, churn#17462, regDayNum#17649, ... 7 more fields]\n",
      "                                                                                                                                          +- Project [userId#17432, level#17440, freqSubmitDowngrade#17441, freqThumbsDown#17442, freqHome#17443, freqDowngrade#17444, freqRollAdvert#17445, freqLogout#17446, freqSaveSettings#17447, freqAbout#17448, freqSubmitRegistration#17449, freqSettings#17450, freqLogin#17451, freqRegister#17452, freqAddtoPlaylist#17453, freqAddFriend#17454, freqNextSong#17455, freqThumbsUp#17456, freqHelp#17457, freqUpgrade#17458, freqError#17459, freqSubmitUpgrade#17460, aritstCount#17461, churn#17462, ... 8 more fields]\n",
      "                                                                                                                                             +- Project [userId#17432, level#17440, freqSubmitDowngrade#17441, freqThumbsDown#17442, freqHome#17443, freqDowngrade#17444, freqRollAdvert#17445, freqLogout#17446, freqSaveSettings#17447, freqAbout#17448, freqSubmitRegistration#17449, freqSettings#17450, freqLogin#17451, freqRegister#17452, freqAddtoPlaylist#17453, freqAddFriend#17454, freqNextSong#17455, freqThumbsUp#17456, freqHelp#17457, freqUpgrade#17458, freqError#17459, freqSubmitUpgrade#17460, aritstCount#17461, churn#17462, ... 7 more fields]\n",
      "                                                                                                                                                +- Project [userId#17432, gender#17439, level#17440, freqSubmitDowngrade#17441, freqThumbsDown#17442, freqHome#17443, freqDowngrade#17444, freqRollAdvert#17445, freqLogout#17446, freqSaveSettings#17447, freqAbout#17448, freqSubmitRegistration#17449, freqSettings#17450, freqLogin#17451, freqRegister#17452, freqAddtoPlaylist#17453, freqAddFriend#17454, freqNextSong#17455, freqThumbsUp#17456, freqHelp#17457, freqUpgrade#17458, freqError#17459, freqSubmitUpgrade#17460, aritstCount#17461, ... 8 more fields]\n",
      "                                                                                                                                                   +- Project [userId#17432, gender#17439, level#17440, freqSubmitDowngrade#17441, freqThumbsDown#17442, freqHome#17443, freqDowngrade#17444, freqRollAdvert#17445, freqLogout#17446, freqSaveSettings#17447, freqAbout#17448, freqSubmitRegistration#17449, freqSettings#17450, freqLogin#17451, freqRegister#17452, freqAddtoPlaylist#17453, freqAddFriend#17454, freqNextSong#17455, freqThumbsUp#17456, freqHelp#17457, freqUpgrade#17458, freqError#17459, freqSubmitUpgrade#17460, aritstCount#17461, ... 7 more fields]\n",
      "                                                                                                                                                      +- Project [userId#17432, sessionCount#17438, gender#17439, level#17440, freqSubmitDowngrade#17441, freqThumbsDown#17442, freqHome#17443, freqDowngrade#17444, freqRollAdvert#17445, freqLogout#17446, freqSaveSettings#17447, freqAbout#17448, freqSubmitRegistration#17449, freqSettings#17450, freqLogin#17451, freqRegister#17452, freqAddtoPlaylist#17453, freqAddFriend#17454, freqNextSong#17455, freqThumbsUp#17456, freqHelp#17457, freqUpgrade#17458, freqError#17459, freqSubmitUpgrade#17460, ... 8 more fields]\n",
      "                                                                                                                                                         +- Project [userId#17432, sessionCount#17438, gender#17439, level#17440, freqSubmitDowngrade#17441, freqThumbsDown#17442, freqHome#17443, freqDowngrade#17444, freqRollAdvert#17445, freqLogout#17446, freqSaveSettings#17447, freqAbout#17448, freqSubmitRegistration#17449, freqSettings#17450, freqLogin#17451, freqRegister#17452, freqAddtoPlaylist#17453, freqAddFriend#17454, freqNextSong#17455, freqThumbsUp#17456, freqHelp#17457, freqUpgrade#17458, freqError#17459, freqSubmitUpgrade#17460, ... 7 more fields]\n",
      "                                                                                                                                                            +- Project [userId#17432, avgSessionSongs#17437, sessionCount#17438, gender#17439, level#17440, freqSubmitDowngrade#17441, freqThumbsDown#17442, freqHome#17443, freqDowngrade#17444, freqRollAdvert#17445, freqLogout#17446, freqSaveSettings#17447, freqAbout#17448, freqSubmitRegistration#17449, freqSettings#17450, freqLogin#17451, freqRegister#17452, freqAddtoPlaylist#17453, freqAddFriend#17454, freqNextSong#17455, freqThumbsUp#17456, freqHelp#17457, freqUpgrade#17458, freqError#17459, ... 8 more fields]\n",
      "                                                                                                                                                               +- Project [userId#17432, avgSessionSongs#17437, sessionCount#17438, gender#17439, level#17440, freqSubmitDowngrade#17441, freqThumbsDown#17442, freqHome#17443, freqDowngrade#17444, freqRollAdvert#17445, freqLogout#17446, freqSaveSettings#17447, freqAbout#17448, freqSubmitRegistration#17449, freqSettings#17450, freqLogin#17451, freqRegister#17452, freqAddtoPlaylist#17453, freqAddFriend#17454, freqNextSong#17455, freqThumbsUp#17456, freqHelp#17457, freqUpgrade#17458, freqError#17459, ... 7 more fields]\n",
      "                                                                                                                                                                  +- Project [userId#17432, maxSessionTime#17436, avgSessionSongs#17437, sessionCount#17438, gender#17439, level#17440, freqSubmitDowngrade#17441, freqThumbsDown#17442, freqHome#17443, freqDowngrade#17444, freqRollAdvert#17445, freqLogout#17446, freqSaveSettings#17447, freqAbout#17448, freqSubmitRegistration#17449, freqSettings#17450, freqLogin#17451, freqRegister#17452, freqAddtoPlaylist#17453, freqAddFriend#17454, freqNextSong#17455, freqThumbsUp#17456, freqHelp#17457, freqUpgrade#17458, ... 8 more fields]\n",
      "                                                                                                                                                                     +- Project [userId#17432, maxSessionTime#17436, avgSessionSongs#17437, sessionCount#17438, gender#17439, level#17440, freqSubmitDowngrade#17441, freqThumbsDown#17442, freqHome#17443, freqDowngrade#17444, freqRollAdvert#17445, freqLogout#17446, freqSaveSettings#17447, freqAbout#17448, freqSubmitRegistration#17449, freqSettings#17450, freqLogin#17451, freqRegister#17452, freqAddtoPlaylist#17453, freqAddFriend#17454, freqNextSong#17455, freqThumbsUp#17456, freqHelp#17457, freqUpgrade#17458, ... 7 more fields]\n",
      "                                                                                                                                                                        +- Project [userId#17432, minSessionTime#17435, maxSessionTime#17436, avgSessionSongs#17437, sessionCount#17438, gender#17439, level#17440, freqSubmitDowngrade#17441, freqThumbsDown#17442, freqHome#17443, freqDowngrade#17444, freqRollAdvert#17445, freqLogout#17446, freqSaveSettings#17447, freqAbout#17448, freqSubmitRegistration#17449, freqSettings#17450, freqLogin#17451, freqRegister#17452, freqAddtoPlaylist#17453, freqAddFriend#17454, freqNextSong#17455, freqThumbsUp#17456, freqHelp#17457, ... 8 more fields]\n",
      "                                                                                                                                                                           +- Project [userId#17432, minSessionTime#17435, maxSessionTime#17436, avgSessionSongs#17437, sessionCount#17438, gender#17439, level#17440, freqSubmitDowngrade#17441, freqThumbsDown#17442, freqHome#17443, freqDowngrade#17444, freqRollAdvert#17445, freqLogout#17446, freqSaveSettings#17447, freqAbout#17448, freqSubmitRegistration#17449, freqSettings#17450, freqLogin#17451, freqRegister#17452, freqAddtoPlaylist#17453, freqAddFriend#17454, freqNextSong#17455, freqThumbsUp#17456, freqHelp#17457, ... 7 more fields]\n",
      "                                                                                                                                                                              +- Project [userId#17432, avgSessionTime#17434, minSessionTime#17435, maxSessionTime#17436, avgSessionSongs#17437, sessionCount#17438, gender#17439, level#17440, freqSubmitDowngrade#17441, freqThumbsDown#17442, freqHome#17443, freqDowngrade#17444, freqRollAdvert#17445, freqLogout#17446, freqSaveSettings#17447, freqAbout#17448, freqSubmitRegistration#17449, freqSettings#17450, freqLogin#17451, freqRegister#17452, freqAddtoPlaylist#17453, freqAddFriend#17454, freqNextSong#17455, freqThumbsUp#17456, ... 8 more fields]\n",
      "                                                                                                                                                                                 +- Project [userId#17432, avgSessionTime#17434, minSessionTime#17435, maxSessionTime#17436, avgSessionSongs#17437, sessionCount#17438, gender#17439, level#17440, freqSubmitDowngrade#17441, freqThumbsDown#17442, freqHome#17443, freqDowngrade#17444, freqRollAdvert#17445, freqLogout#17446, freqSaveSettings#17447, freqAbout#17448, freqSubmitRegistration#17449, freqSettings#17450, freqLogin#17451, freqRegister#17452, freqAddtoPlaylist#17453, freqAddFriend#17454, freqNextSong#17455, freqThumbsUp#17456, ... 7 more fields]\n",
      "                                                                                                                                                                                    +- Project [userId#17432, regDay#17433, avgSessionTime#17434, minSessionTime#17435, maxSessionTime#17436, avgSessionSongs#17437, sessionCount#17438, gender#17439, level#17440, freqSubmitDowngrade#17441, freqThumbsDown#17442, freqHome#17443, freqDowngrade#17444, freqRollAdvert#17445, freqLogout#17446, freqSaveSettings#17447, freqAbout#17448, freqSubmitRegistration#17449, freqSettings#17450, freqLogin#17451, freqRegister#17452, freqAddtoPlaylist#17453, freqAddFriend#17454, freqNextSong#17455, ... 8 more fields]\n",
      "                                                                                                                                                                                       +- Relation[userId#17432,regDay#17433,avgSessionTime#17434,minSessionTime#17435,maxSessionTime#17436,avgSessionSongs#17437,sessionCount#17438,gender#17439,level#17440,freqSubmitDowngrade#17441,freqThumbsDown#17442,freqHome#17443,freqDowngrade#17444,freqRollAdvert#17445,freqLogout#17446,freqSaveSettings#17447,freqAbout#17448,freqSubmitRegistration#17449,freqSettings#17450,freqLogin#17451,freqRegister#17452,freqAddtoPlaylist#17453,freqAddFriend#17454,freqNextSong#17455,... 7 more fields] csv\n",
      "\n",
      "== Analyzed Logical Plan ==\n",
      "userId: string, regDayNum: float, avgSessionTimeNum: float, minSessionTimeNum: float, maxSessionTimeNum: float, avgSessionSongsNum: float, sessionCountNum: float, genderNum: float, levelNum: float, freqSubmitDowngradeNum: float, freqThumbsDownNum: float, freqHomeNum: float, freqDowngradeNum: float, freqRollAdvertNum: float, freqLogoutNum: float, freqSaveSettingsNum: float, freqAboutNum: float, freqSubmitRegistrationNum: float, freqSettingsNum: float, freqLoginNum: float, freqRegisterNum: float, freqAddtoPlaylistNum: float, freqAddFriendNum: float, freqNextSongNum: float, ... 8 more fields\n",
      "Project [userId#17432, regDayNum#17649, avgSessionTimeNum#17713, minSessionTimeNum#17777, maxSessionTimeNum#17841, avgSessionSongsNum#17905, sessionCountNum#17969, genderNum#18033, levelNum#18097, freqSubmitDowngradeNum#18161, freqThumbsDownNum#18225, freqHomeNum#18289, freqDowngradeNum#18353, freqRollAdvertNum#18417, freqLogoutNum#18481, freqSaveSettingsNum#18545, freqAboutNum#18609, freqSubmitRegistrationNum#18673, freqSettingsNum#18737, freqLoginNum#18801, freqRegisterNum#18865, freqAddtoPlaylistNum#18929, freqAddFriendNum#18993, freqNextSongNum#19057, ... 8 more fields]\n",
      "+- Filter AtLeastNNulls(n, regDayNum#17649,avgSessionTimeNum#17713,minSessionTimeNum#17777,maxSessionTimeNum#17841,avgSessionSongsNum#17905,sessionCountNum#17969,genderNum#18033,levelNum#18097,freqSubmitDowngradeNum#18161,freqThumbsDownNum#18225,freqHomeNum#18289,freqDowngradeNum#18353,freqRollAdvertNum#18417,freqLogoutNum#18481,freqSaveSettingsNum#18545,freqAboutNum#18609,freqSubmitRegistrationNum#18673,freqSettingsNum#18737,freqLoginNum#18801,freqRegisterNum#18865,freqAddtoPlaylistNum#18929,freqAddFriendNum#18993,freqNextSongNum#19057,freqThumbsUpNum#19121,freqHelpNum#19185,freqUpgradeNum#19249,freqErrorNum#19313,freqSubmitUpgradeNum#19377,aritstCountNum#19441)\n",
      "   +- Project [userId#17432, regDayNum#17649, avgSessionTimeNum#17713, minSessionTimeNum#17777, maxSessionTimeNum#17841, avgSessionSongsNum#17905, sessionCountNum#17969, genderNum#18033, levelNum#18097, freqSubmitDowngradeNum#18161, freqThumbsDownNum#18225, freqHomeNum#18289, freqDowngradeNum#18353, freqRollAdvertNum#18417, freqLogoutNum#18481, freqSaveSettingsNum#18545, freqAboutNum#18609, freqSubmitRegistrationNum#18673, freqSettingsNum#18737, freqLoginNum#18801, freqRegisterNum#18865, freqAddtoPlaylistNum#18929, freqAddFriendNum#18993, freqNextSongNum#19057, ... 7 more fields]\n",
      "      +- Project [userId#17432, churn#17462, regDayNum#17649, avgSessionTimeNum#17713, minSessionTimeNum#17777, maxSessionTimeNum#17841, avgSessionSongsNum#17905, sessionCountNum#17969, genderNum#18033, levelNum#18097, freqSubmitDowngradeNum#18161, freqThumbsDownNum#18225, freqHomeNum#18289, freqDowngradeNum#18353, freqRollAdvertNum#18417, freqLogoutNum#18481, freqSaveSettingsNum#18545, freqAboutNum#18609, freqSubmitRegistrationNum#18673, freqSettingsNum#18737, freqLoginNum#18801, freqRegisterNum#18865, freqAddtoPlaylistNum#18929, freqAddFriendNum#18993, ... 8 more fields]\n",
      "         +- Project [userId#17432, churn#17462, regDayNum#17649, avgSessionTimeNum#17713, minSessionTimeNum#17777, maxSessionTimeNum#17841, avgSessionSongsNum#17905, sessionCountNum#17969, genderNum#18033, levelNum#18097, freqSubmitDowngradeNum#18161, freqThumbsDownNum#18225, freqHomeNum#18289, freqDowngradeNum#18353, freqRollAdvertNum#18417, freqLogoutNum#18481, freqSaveSettingsNum#18545, freqAboutNum#18609, freqSubmitRegistrationNum#18673, freqSettingsNum#18737, freqLoginNum#18801, freqRegisterNum#18865, freqAddtoPlaylistNum#18929, freqAddFriendNum#18993, ... 7 more fields]\n",
      "            +- Project [userId#17432, aritstCount#17461, churn#17462, regDayNum#17649, avgSessionTimeNum#17713, minSessionTimeNum#17777, maxSessionTimeNum#17841, avgSessionSongsNum#17905, sessionCountNum#17969, genderNum#18033, levelNum#18097, freqSubmitDowngradeNum#18161, freqThumbsDownNum#18225, freqHomeNum#18289, freqDowngradeNum#18353, freqRollAdvertNum#18417, freqLogoutNum#18481, freqSaveSettingsNum#18545, freqAboutNum#18609, freqSubmitRegistrationNum#18673, freqSettingsNum#18737, freqLoginNum#18801, freqRegisterNum#18865, freqAddtoPlaylistNum#18929, ... 8 more fields]\n",
      "               +- Project [userId#17432, aritstCount#17461, churn#17462, regDayNum#17649, avgSessionTimeNum#17713, minSessionTimeNum#17777, maxSessionTimeNum#17841, avgSessionSongsNum#17905, sessionCountNum#17969, genderNum#18033, levelNum#18097, freqSubmitDowngradeNum#18161, freqThumbsDownNum#18225, freqHomeNum#18289, freqDowngradeNum#18353, freqRollAdvertNum#18417, freqLogoutNum#18481, freqSaveSettingsNum#18545, freqAboutNum#18609, freqSubmitRegistrationNum#18673, freqSettingsNum#18737, freqLoginNum#18801, freqRegisterNum#18865, freqAddtoPlaylistNum#18929, ... 7 more fields]\n",
      "                  +- Project [userId#17432, freqSubmitUpgrade#17460, aritstCount#17461, churn#17462, regDayNum#17649, avgSessionTimeNum#17713, minSessionTimeNum#17777, maxSessionTimeNum#17841, avgSessionSongsNum#17905, sessionCountNum#17969, genderNum#18033, levelNum#18097, freqSubmitDowngradeNum#18161, freqThumbsDownNum#18225, freqHomeNum#18289, freqDowngradeNum#18353, freqRollAdvertNum#18417, freqLogoutNum#18481, freqSaveSettingsNum#18545, freqAboutNum#18609, freqSubmitRegistrationNum#18673, freqSettingsNum#18737, freqLoginNum#18801, freqRegisterNum#18865, ... 8 more fields]\n",
      "                     +- Project [userId#17432, freqSubmitUpgrade#17460, aritstCount#17461, churn#17462, regDayNum#17649, avgSessionTimeNum#17713, minSessionTimeNum#17777, maxSessionTimeNum#17841, avgSessionSongsNum#17905, sessionCountNum#17969, genderNum#18033, levelNum#18097, freqSubmitDowngradeNum#18161, freqThumbsDownNum#18225, freqHomeNum#18289, freqDowngradeNum#18353, freqRollAdvertNum#18417, freqLogoutNum#18481, freqSaveSettingsNum#18545, freqAboutNum#18609, freqSubmitRegistrationNum#18673, freqSettingsNum#18737, freqLoginNum#18801, freqRegisterNum#18865, ... 7 more fields]\n",
      "                        +- Project [userId#17432, freqError#17459, freqSubmitUpgrade#17460, aritstCount#17461, churn#17462, regDayNum#17649, avgSessionTimeNum#17713, minSessionTimeNum#17777, maxSessionTimeNum#17841, avgSessionSongsNum#17905, sessionCountNum#17969, genderNum#18033, levelNum#18097, freqSubmitDowngradeNum#18161, freqThumbsDownNum#18225, freqHomeNum#18289, freqDowngradeNum#18353, freqRollAdvertNum#18417, freqLogoutNum#18481, freqSaveSettingsNum#18545, freqAboutNum#18609, freqSubmitRegistrationNum#18673, freqSettingsNum#18737, freqLoginNum#18801, ... 8 more fields]\n",
      "                           +- Project [userId#17432, freqError#17459, freqSubmitUpgrade#17460, aritstCount#17461, churn#17462, regDayNum#17649, avgSessionTimeNum#17713, minSessionTimeNum#17777, maxSessionTimeNum#17841, avgSessionSongsNum#17905, sessionCountNum#17969, genderNum#18033, levelNum#18097, freqSubmitDowngradeNum#18161, freqThumbsDownNum#18225, freqHomeNum#18289, freqDowngradeNum#18353, freqRollAdvertNum#18417, freqLogoutNum#18481, freqSaveSettingsNum#18545, freqAboutNum#18609, freqSubmitRegistrationNum#18673, freqSettingsNum#18737, freqLoginNum#18801, ... 7 more fields]\n",
      "                              +- Project [userId#17432, freqUpgrade#17458, freqError#17459, freqSubmitUpgrade#17460, aritstCount#17461, churn#17462, regDayNum#17649, avgSessionTimeNum#17713, minSessionTimeNum#17777, maxSessionTimeNum#17841, avgSessionSongsNum#17905, sessionCountNum#17969, genderNum#18033, levelNum#18097, freqSubmitDowngradeNum#18161, freqThumbsDownNum#18225, freqHomeNum#18289, freqDowngradeNum#18353, freqRollAdvertNum#18417, freqLogoutNum#18481, freqSaveSettingsNum#18545, freqAboutNum#18609, freqSubmitRegistrationNum#18673, freqSettingsNum#18737, ... 8 more fields]\n",
      "                                 +- Project [userId#17432, freqUpgrade#17458, freqError#17459, freqSubmitUpgrade#17460, aritstCount#17461, churn#17462, regDayNum#17649, avgSessionTimeNum#17713, minSessionTimeNum#17777, maxSessionTimeNum#17841, avgSessionSongsNum#17905, sessionCountNum#17969, genderNum#18033, levelNum#18097, freqSubmitDowngradeNum#18161, freqThumbsDownNum#18225, freqHomeNum#18289, freqDowngradeNum#18353, freqRollAdvertNum#18417, freqLogoutNum#18481, freqSaveSettingsNum#18545, freqAboutNum#18609, freqSubmitRegistrationNum#18673, freqSettingsNum#18737, ... 7 more fields]\n",
      "                                    +- Project [userId#17432, freqHelp#17457, freqUpgrade#17458, freqError#17459, freqSubmitUpgrade#17460, aritstCount#17461, churn#17462, regDayNum#17649, avgSessionTimeNum#17713, minSessionTimeNum#17777, maxSessionTimeNum#17841, avgSessionSongsNum#17905, sessionCountNum#17969, genderNum#18033, levelNum#18097, freqSubmitDowngradeNum#18161, freqThumbsDownNum#18225, freqHomeNum#18289, freqDowngradeNum#18353, freqRollAdvertNum#18417, freqLogoutNum#18481, freqSaveSettingsNum#18545, freqAboutNum#18609, freqSubmitRegistrationNum#18673, ... 8 more fields]\n",
      "                                       +- Project [userId#17432, freqHelp#17457, freqUpgrade#17458, freqError#17459, freqSubmitUpgrade#17460, aritstCount#17461, churn#17462, regDayNum#17649, avgSessionTimeNum#17713, minSessionTimeNum#17777, maxSessionTimeNum#17841, avgSessionSongsNum#17905, sessionCountNum#17969, genderNum#18033, levelNum#18097, freqSubmitDowngradeNum#18161, freqThumbsDownNum#18225, freqHomeNum#18289, freqDowngradeNum#18353, freqRollAdvertNum#18417, freqLogoutNum#18481, freqSaveSettingsNum#18545, freqAboutNum#18609, freqSubmitRegistrationNum#18673, ... 7 more fields]\n",
      "                                          +- Project [userId#17432, freqThumbsUp#17456, freqHelp#17457, freqUpgrade#17458, freqError#17459, freqSubmitUpgrade#17460, aritstCount#17461, churn#17462, regDayNum#17649, avgSessionTimeNum#17713, minSessionTimeNum#17777, maxSessionTimeNum#17841, avgSessionSongsNum#17905, sessionCountNum#17969, genderNum#18033, levelNum#18097, freqSubmitDowngradeNum#18161, freqThumbsDownNum#18225, freqHomeNum#18289, freqDowngradeNum#18353, freqRollAdvertNum#18417, freqLogoutNum#18481, freqSaveSettingsNum#18545, freqAboutNum#18609, ... 8 more fields]\n",
      "                                             +- Project [userId#17432, freqThumbsUp#17456, freqHelp#17457, freqUpgrade#17458, freqError#17459, freqSubmitUpgrade#17460, aritstCount#17461, churn#17462, regDayNum#17649, avgSessionTimeNum#17713, minSessionTimeNum#17777, maxSessionTimeNum#17841, avgSessionSongsNum#17905, sessionCountNum#17969, genderNum#18033, levelNum#18097, freqSubmitDowngradeNum#18161, freqThumbsDownNum#18225, freqHomeNum#18289, freqDowngradeNum#18353, freqRollAdvertNum#18417, freqLogoutNum#18481, freqSaveSettingsNum#18545, freqAboutNum#18609, ... 7 more fields]\n",
      "                                                +- Project [userId#17432, freqNextSong#17455, freqThumbsUp#17456, freqHelp#17457, freqUpgrade#17458, freqError#17459, freqSubmitUpgrade#17460, aritstCount#17461, churn#17462, regDayNum#17649, avgSessionTimeNum#17713, minSessionTimeNum#17777, maxSessionTimeNum#17841, avgSessionSongsNum#17905, sessionCountNum#17969, genderNum#18033, levelNum#18097, freqSubmitDowngradeNum#18161, freqThumbsDownNum#18225, freqHomeNum#18289, freqDowngradeNum#18353, freqRollAdvertNum#18417, freqLogoutNum#18481, freqSaveSettingsNum#18545, ... 8 more fields]\n",
      "                                                   +- Project [userId#17432, freqNextSong#17455, freqThumbsUp#17456, freqHelp#17457, freqUpgrade#17458, freqError#17459, freqSubmitUpgrade#17460, aritstCount#17461, churn#17462, regDayNum#17649, avgSessionTimeNum#17713, minSessionTimeNum#17777, maxSessionTimeNum#17841, avgSessionSongsNum#17905, sessionCountNum#17969, genderNum#18033, levelNum#18097, freqSubmitDowngradeNum#18161, freqThumbsDownNum#18225, freqHomeNum#18289, freqDowngradeNum#18353, freqRollAdvertNum#18417, freqLogoutNum#18481, freqSaveSettingsNum#18545, ... 7 more fields]\n",
      "                                                      +- Project [userId#17432, freqAddFriend#17454, freqNextSong#17455, freqThumbsUp#17456, freqHelp#17457, freqUpgrade#17458, freqError#17459, freqSubmitUpgrade#17460, aritstCount#17461, churn#17462, regDayNum#17649, avgSessionTimeNum#17713, minSessionTimeNum#17777, maxSessionTimeNum#17841, avgSessionSongsNum#17905, sessionCountNum#17969, genderNum#18033, levelNum#18097, freqSubmitDowngradeNum#18161, freqThumbsDownNum#18225, freqHomeNum#18289, freqDowngradeNum#18353, freqRollAdvertNum#18417, freqLogoutNum#18481, ... 8 more fields]\n",
      "                                                         +- Project [userId#17432, freqAddFriend#17454, freqNextSong#17455, freqThumbsUp#17456, freqHelp#17457, freqUpgrade#17458, freqError#17459, freqSubmitUpgrade#17460, aritstCount#17461, churn#17462, regDayNum#17649, avgSessionTimeNum#17713, minSessionTimeNum#17777, maxSessionTimeNum#17841, avgSessionSongsNum#17905, sessionCountNum#17969, genderNum#18033, levelNum#18097, freqSubmitDowngradeNum#18161, freqThumbsDownNum#18225, freqHomeNum#18289, freqDowngradeNum#18353, freqRollAdvertNum#18417, freqLogoutNum#18481, ... 7 more fields]\n",
      "                                                            +- Project [userId#17432, freqAddtoPlaylist#17453, freqAddFriend#17454, freqNextSong#17455, freqThumbsUp#17456, freqHelp#17457, freqUpgrade#17458, freqError#17459, freqSubmitUpgrade#17460, aritstCount#17461, churn#17462, regDayNum#17649, avgSessionTimeNum#17713, minSessionTimeNum#17777, maxSessionTimeNum#17841, avgSessionSongsNum#17905, sessionCountNum#17969, genderNum#18033, levelNum#18097, freqSubmitDowngradeNum#18161, freqThumbsDownNum#18225, freqHomeNum#18289, freqDowngradeNum#18353, freqRollAdvertNum#18417, ... 8 more fields]\n",
      "                                                               +- Project [userId#17432, freqAddtoPlaylist#17453, freqAddFriend#17454, freqNextSong#17455, freqThumbsUp#17456, freqHelp#17457, freqUpgrade#17458, freqError#17459, freqSubmitUpgrade#17460, aritstCount#17461, churn#17462, regDayNum#17649, avgSessionTimeNum#17713, minSessionTimeNum#17777, maxSessionTimeNum#17841, avgSessionSongsNum#17905, sessionCountNum#17969, genderNum#18033, levelNum#18097, freqSubmitDowngradeNum#18161, freqThumbsDownNum#18225, freqHomeNum#18289, freqDowngradeNum#18353, freqRollAdvertNum#18417, ... 7 more fields]\n",
      "                                                                  +- Project [userId#17432, freqRegister#17452, freqAddtoPlaylist#17453, freqAddFriend#17454, freqNextSong#17455, freqThumbsUp#17456, freqHelp#17457, freqUpgrade#17458, freqError#17459, freqSubmitUpgrade#17460, aritstCount#17461, churn#17462, regDayNum#17649, avgSessionTimeNum#17713, minSessionTimeNum#17777, maxSessionTimeNum#17841, avgSessionSongsNum#17905, sessionCountNum#17969, genderNum#18033, levelNum#18097, freqSubmitDowngradeNum#18161, freqThumbsDownNum#18225, freqHomeNum#18289, freqDowngradeNum#18353, ... 8 more fields]\n",
      "                                                                     +- Project [userId#17432, freqRegister#17452, freqAddtoPlaylist#17453, freqAddFriend#17454, freqNextSong#17455, freqThumbsUp#17456, freqHelp#17457, freqUpgrade#17458, freqError#17459, freqSubmitUpgrade#17460, aritstCount#17461, churn#17462, regDayNum#17649, avgSessionTimeNum#17713, minSessionTimeNum#17777, maxSessionTimeNum#17841, avgSessionSongsNum#17905, sessionCountNum#17969, genderNum#18033, levelNum#18097, freqSubmitDowngradeNum#18161, freqThumbsDownNum#18225, freqHomeNum#18289, freqDowngradeNum#18353, ... 7 more fields]\n",
      "                                                                        +- Project [userId#17432, freqLogin#17451, freqRegister#17452, freqAddtoPlaylist#17453, freqAddFriend#17454, freqNextSong#17455, freqThumbsUp#17456, freqHelp#17457, freqUpgrade#17458, freqError#17459, freqSubmitUpgrade#17460, aritstCount#17461, churn#17462, regDayNum#17649, avgSessionTimeNum#17713, minSessionTimeNum#17777, maxSessionTimeNum#17841, avgSessionSongsNum#17905, sessionCountNum#17969, genderNum#18033, levelNum#18097, freqSubmitDowngradeNum#18161, freqThumbsDownNum#18225, freqHomeNum#18289, ... 8 more fields]\n",
      "                                                                           +- Project [userId#17432, freqLogin#17451, freqRegister#17452, freqAddtoPlaylist#17453, freqAddFriend#17454, freqNextSong#17455, freqThumbsUp#17456, freqHelp#17457, freqUpgrade#17458, freqError#17459, freqSubmitUpgrade#17460, aritstCount#17461, churn#17462, regDayNum#17649, avgSessionTimeNum#17713, minSessionTimeNum#17777, maxSessionTimeNum#17841, avgSessionSongsNum#17905, sessionCountNum#17969, genderNum#18033, levelNum#18097, freqSubmitDowngradeNum#18161, freqThumbsDownNum#18225, freqHomeNum#18289, ... 7 more fields]\n",
      "                                                                              +- Project [userId#17432, freqSettings#17450, freqLogin#17451, freqRegister#17452, freqAddtoPlaylist#17453, freqAddFriend#17454, freqNextSong#17455, freqThumbsUp#17456, freqHelp#17457, freqUpgrade#17458, freqError#17459, freqSubmitUpgrade#17460, aritstCount#17461, churn#17462, regDayNum#17649, avgSessionTimeNum#17713, minSessionTimeNum#17777, maxSessionTimeNum#17841, avgSessionSongsNum#17905, sessionCountNum#17969, genderNum#18033, levelNum#18097, freqSubmitDowngradeNum#18161, freqThumbsDownNum#18225, ... 8 more fields]\n",
      "                                                                                 +- Project [userId#17432, freqSettings#17450, freqLogin#17451, freqRegister#17452, freqAddtoPlaylist#17453, freqAddFriend#17454, freqNextSong#17455, freqThumbsUp#17456, freqHelp#17457, freqUpgrade#17458, freqError#17459, freqSubmitUpgrade#17460, aritstCount#17461, churn#17462, regDayNum#17649, avgSessionTimeNum#17713, minSessionTimeNum#17777, maxSessionTimeNum#17841, avgSessionSongsNum#17905, sessionCountNum#17969, genderNum#18033, levelNum#18097, freqSubmitDowngradeNum#18161, freqThumbsDownNum#18225, ... 7 more fields]\n",
      "                                                                                    +- Project [userId#17432, freqSubmitRegistration#17449, freqSettings#17450, freqLogin#17451, freqRegister#17452, freqAddtoPlaylist#17453, freqAddFriend#17454, freqNextSong#17455, freqThumbsUp#17456, freqHelp#17457, freqUpgrade#17458, freqError#17459, freqSubmitUpgrade#17460, aritstCount#17461, churn#17462, regDayNum#17649, avgSessionTimeNum#17713, minSessionTimeNum#17777, maxSessionTimeNum#17841, avgSessionSongsNum#17905, sessionCountNum#17969, genderNum#18033, levelNum#18097, freqSubmitDowngradeNum#18161, ... 8 more fields]\n",
      "                                                                                       +- Project [userId#17432, freqSubmitRegistration#17449, freqSettings#17450, freqLogin#17451, freqRegister#17452, freqAddtoPlaylist#17453, freqAddFriend#17454, freqNextSong#17455, freqThumbsUp#17456, freqHelp#17457, freqUpgrade#17458, freqError#17459, freqSubmitUpgrade#17460, aritstCount#17461, churn#17462, regDayNum#17649, avgSessionTimeNum#17713, minSessionTimeNum#17777, maxSessionTimeNum#17841, avgSessionSongsNum#17905, sessionCountNum#17969, genderNum#18033, levelNum#18097, freqSubmitDowngradeNum#18161, ... 7 more fields]\n",
      "                                                                                          +- Project [userId#17432, freqAbout#17448, freqSubmitRegistration#17449, freqSettings#17450, freqLogin#17451, freqRegister#17452, freqAddtoPlaylist#17453, freqAddFriend#17454, freqNextSong#17455, freqThumbsUp#17456, freqHelp#17457, freqUpgrade#17458, freqError#17459, freqSubmitUpgrade#17460, aritstCount#17461, churn#17462, regDayNum#17649, avgSessionTimeNum#17713, minSessionTimeNum#17777, maxSessionTimeNum#17841, avgSessionSongsNum#17905, sessionCountNum#17969, genderNum#18033, levelNum#18097, ... 8 more fields]\n",
      "                                                                                             +- Project [userId#17432, freqAbout#17448, freqSubmitRegistration#17449, freqSettings#17450, freqLogin#17451, freqRegister#17452, freqAddtoPlaylist#17453, freqAddFriend#17454, freqNextSong#17455, freqThumbsUp#17456, freqHelp#17457, freqUpgrade#17458, freqError#17459, freqSubmitUpgrade#17460, aritstCount#17461, churn#17462, regDayNum#17649, avgSessionTimeNum#17713, minSessionTimeNum#17777, maxSessionTimeNum#17841, avgSessionSongsNum#17905, sessionCountNum#17969, genderNum#18033, levelNum#18097, ... 7 more fields]\n",
      "                                                                                                +- Project [userId#17432, freqSaveSettings#17447, freqAbout#17448, freqSubmitRegistration#17449, freqSettings#17450, freqLogin#17451, freqRegister#17452, freqAddtoPlaylist#17453, freqAddFriend#17454, freqNextSong#17455, freqThumbsUp#17456, freqHelp#17457, freqUpgrade#17458, freqError#17459, freqSubmitUpgrade#17460, aritstCount#17461, churn#17462, regDayNum#17649, avgSessionTimeNum#17713, minSessionTimeNum#17777, maxSessionTimeNum#17841, avgSessionSongsNum#17905, sessionCountNum#17969, genderNum#18033, ... 8 more fields]\n",
      "                                                                                                   +- Project [userId#17432, freqSaveSettings#17447, freqAbout#17448, freqSubmitRegistration#17449, freqSettings#17450, freqLogin#17451, freqRegister#17452, freqAddtoPlaylist#17453, freqAddFriend#17454, freqNextSong#17455, freqThumbsUp#17456, freqHelp#17457, freqUpgrade#17458, freqError#17459, freqSubmitUpgrade#17460, aritstCount#17461, churn#17462, regDayNum#17649, avgSessionTimeNum#17713, minSessionTimeNum#17777, maxSessionTimeNum#17841, avgSessionSongsNum#17905, sessionCountNum#17969, genderNum#18033, ... 7 more fields]\n",
      "                                                                                                      +- Project [userId#17432, freqLogout#17446, freqSaveSettings#17447, freqAbout#17448, freqSubmitRegistration#17449, freqSettings#17450, freqLogin#17451, freqRegister#17452, freqAddtoPlaylist#17453, freqAddFriend#17454, freqNextSong#17455, freqThumbsUp#17456, freqHelp#17457, freqUpgrade#17458, freqError#17459, freqSubmitUpgrade#17460, aritstCount#17461, churn#17462, regDayNum#17649, avgSessionTimeNum#17713, minSessionTimeNum#17777, maxSessionTimeNum#17841, avgSessionSongsNum#17905, sessionCountNum#17969, ... 8 more fields]\n",
      "                                                                                                         +- Project [userId#17432, freqLogout#17446, freqSaveSettings#17447, freqAbout#17448, freqSubmitRegistration#17449, freqSettings#17450, freqLogin#17451, freqRegister#17452, freqAddtoPlaylist#17453, freqAddFriend#17454, freqNextSong#17455, freqThumbsUp#17456, freqHelp#17457, freqUpgrade#17458, freqError#17459, freqSubmitUpgrade#17460, aritstCount#17461, churn#17462, regDayNum#17649, avgSessionTimeNum#17713, minSessionTimeNum#17777, maxSessionTimeNum#17841, avgSessionSongsNum#17905, sessionCountNum#17969, ... 7 more fields]\n",
      "                                                                                                            +- Project [userId#17432, freqRollAdvert#17445, freqLogout#17446, freqSaveSettings#17447, freqAbout#17448, freqSubmitRegistration#17449, freqSettings#17450, freqLogin#17451, freqRegister#17452, freqAddtoPlaylist#17453, freqAddFriend#17454, freqNextSong#17455, freqThumbsUp#17456, freqHelp#17457, freqUpgrade#17458, freqError#17459, freqSubmitUpgrade#17460, aritstCount#17461, churn#17462, regDayNum#17649, avgSessionTimeNum#17713, minSessionTimeNum#17777, maxSessionTimeNum#17841, avgSessionSongsNum#17905, ... 8 more fields]\n",
      "                                                                                                               +- Project [userId#17432, freqRollAdvert#17445, freqLogout#17446, freqSaveSettings#17447, freqAbout#17448, freqSubmitRegistration#17449, freqSettings#17450, freqLogin#17451, freqRegister#17452, freqAddtoPlaylist#17453, freqAddFriend#17454, freqNextSong#17455, freqThumbsUp#17456, freqHelp#17457, freqUpgrade#17458, freqError#17459, freqSubmitUpgrade#17460, aritstCount#17461, churn#17462, regDayNum#17649, avgSessionTimeNum#17713, minSessionTimeNum#17777, maxSessionTimeNum#17841, avgSessionSongsNum#17905, ... 7 more fields]\n",
      "                                                                                                                  +- Project [userId#17432, freqDowngrade#17444, freqRollAdvert#17445, freqLogout#17446, freqSaveSettings#17447, freqAbout#17448, freqSubmitRegistration#17449, freqSettings#17450, freqLogin#17451, freqRegister#17452, freqAddtoPlaylist#17453, freqAddFriend#17454, freqNextSong#17455, freqThumbsUp#17456, freqHelp#17457, freqUpgrade#17458, freqError#17459, freqSubmitUpgrade#17460, aritstCount#17461, churn#17462, regDayNum#17649, avgSessionTimeNum#17713, minSessionTimeNum#17777, maxSessionTimeNum#17841, ... 8 more fields]\n",
      "                                                                                                                     +- Project [userId#17432, freqDowngrade#17444, freqRollAdvert#17445, freqLogout#17446, freqSaveSettings#17447, freqAbout#17448, freqSubmitRegistration#17449, freqSettings#17450, freqLogin#17451, freqRegister#17452, freqAddtoPlaylist#17453, freqAddFriend#17454, freqNextSong#17455, freqThumbsUp#17456, freqHelp#17457, freqUpgrade#17458, freqError#17459, freqSubmitUpgrade#17460, aritstCount#17461, churn#17462, regDayNum#17649, avgSessionTimeNum#17713, minSessionTimeNum#17777, maxSessionTimeNum#17841, ... 7 more fields]\n",
      "                                                                                                                        +- Project [userId#17432, freqHome#17443, freqDowngrade#17444, freqRollAdvert#17445, freqLogout#17446, freqSaveSettings#17447, freqAbout#17448, freqSubmitRegistration#17449, freqSettings#17450, freqLogin#17451, freqRegister#17452, freqAddtoPlaylist#17453, freqAddFriend#17454, freqNextSong#17455, freqThumbsUp#17456, freqHelp#17457, freqUpgrade#17458, freqError#17459, freqSubmitUpgrade#17460, aritstCount#17461, churn#17462, regDayNum#17649, avgSessionTimeNum#17713, minSessionTimeNum#17777, ... 8 more fields]\n",
      "                                                                                                                           +- Project [userId#17432, freqHome#17443, freqDowngrade#17444, freqRollAdvert#17445, freqLogout#17446, freqSaveSettings#17447, freqAbout#17448, freqSubmitRegistration#17449, freqSettings#17450, freqLogin#17451, freqRegister#17452, freqAddtoPlaylist#17453, freqAddFriend#17454, freqNextSong#17455, freqThumbsUp#17456, freqHelp#17457, freqUpgrade#17458, freqError#17459, freqSubmitUpgrade#17460, aritstCount#17461, churn#17462, regDayNum#17649, avgSessionTimeNum#17713, minSessionTimeNum#17777, ... 7 more fields]\n",
      "                                                                                                                              +- Project [userId#17432, freqThumbsDown#17442, freqHome#17443, freqDowngrade#17444, freqRollAdvert#17445, freqLogout#17446, freqSaveSettings#17447, freqAbout#17448, freqSubmitRegistration#17449, freqSettings#17450, freqLogin#17451, freqRegister#17452, freqAddtoPlaylist#17453, freqAddFriend#17454, freqNextSong#17455, freqThumbsUp#17456, freqHelp#17457, freqUpgrade#17458, freqError#17459, freqSubmitUpgrade#17460, aritstCount#17461, churn#17462, regDayNum#17649, avgSessionTimeNum#17713, ... 8 more fields]\n",
      "                                                                                                                                 +- Project [userId#17432, freqThumbsDown#17442, freqHome#17443, freqDowngrade#17444, freqRollAdvert#17445, freqLogout#17446, freqSaveSettings#17447, freqAbout#17448, freqSubmitRegistration#17449, freqSettings#17450, freqLogin#17451, freqRegister#17452, freqAddtoPlaylist#17453, freqAddFriend#17454, freqNextSong#17455, freqThumbsUp#17456, freqHelp#17457, freqUpgrade#17458, freqError#17459, freqSubmitUpgrade#17460, aritstCount#17461, churn#17462, regDayNum#17649, avgSessionTimeNum#17713, ... 7 more fields]\n",
      "                                                                                                                                    +- Project [userId#17432, freqSubmitDowngrade#17441, freqThumbsDown#17442, freqHome#17443, freqDowngrade#17444, freqRollAdvert#17445, freqLogout#17446, freqSaveSettings#17447, freqAbout#17448, freqSubmitRegistration#17449, freqSettings#17450, freqLogin#17451, freqRegister#17452, freqAddtoPlaylist#17453, freqAddFriend#17454, freqNextSong#17455, freqThumbsUp#17456, freqHelp#17457, freqUpgrade#17458, freqError#17459, freqSubmitUpgrade#17460, aritstCount#17461, churn#17462, regDayNum#17649, ... 8 more fields]\n",
      "                                                                                                                                       +- Project [userId#17432, freqSubmitDowngrade#17441, freqThumbsDown#17442, freqHome#17443, freqDowngrade#17444, freqRollAdvert#17445, freqLogout#17446, freqSaveSettings#17447, freqAbout#17448, freqSubmitRegistration#17449, freqSettings#17450, freqLogin#17451, freqRegister#17452, freqAddtoPlaylist#17453, freqAddFriend#17454, freqNextSong#17455, freqThumbsUp#17456, freqHelp#17457, freqUpgrade#17458, freqError#17459, freqSubmitUpgrade#17460, aritstCount#17461, churn#17462, regDayNum#17649, ... 7 more fields]\n",
      "                                                                                                                                          +- Project [userId#17432, level#17440, freqSubmitDowngrade#17441, freqThumbsDown#17442, freqHome#17443, freqDowngrade#17444, freqRollAdvert#17445, freqLogout#17446, freqSaveSettings#17447, freqAbout#17448, freqSubmitRegistration#17449, freqSettings#17450, freqLogin#17451, freqRegister#17452, freqAddtoPlaylist#17453, freqAddFriend#17454, freqNextSong#17455, freqThumbsUp#17456, freqHelp#17457, freqUpgrade#17458, freqError#17459, freqSubmitUpgrade#17460, aritstCount#17461, churn#17462, ... 8 more fields]\n",
      "                                                                                                                                             +- Project [userId#17432, level#17440, freqSubmitDowngrade#17441, freqThumbsDown#17442, freqHome#17443, freqDowngrade#17444, freqRollAdvert#17445, freqLogout#17446, freqSaveSettings#17447, freqAbout#17448, freqSubmitRegistration#17449, freqSettings#17450, freqLogin#17451, freqRegister#17452, freqAddtoPlaylist#17453, freqAddFriend#17454, freqNextSong#17455, freqThumbsUp#17456, freqHelp#17457, freqUpgrade#17458, freqError#17459, freqSubmitUpgrade#17460, aritstCount#17461, churn#17462, ... 7 more fields]\n",
      "                                                                                                                                                +- Project [userId#17432, gender#17439, level#17440, freqSubmitDowngrade#17441, freqThumbsDown#17442, freqHome#17443, freqDowngrade#17444, freqRollAdvert#17445, freqLogout#17446, freqSaveSettings#17447, freqAbout#17448, freqSubmitRegistration#17449, freqSettings#17450, freqLogin#17451, freqRegister#17452, freqAddtoPlaylist#17453, freqAddFriend#17454, freqNextSong#17455, freqThumbsUp#17456, freqHelp#17457, freqUpgrade#17458, freqError#17459, freqSubmitUpgrade#17460, aritstCount#17461, ... 8 more fields]\n",
      "                                                                                                                                                   +- Project [userId#17432, gender#17439, level#17440, freqSubmitDowngrade#17441, freqThumbsDown#17442, freqHome#17443, freqDowngrade#17444, freqRollAdvert#17445, freqLogout#17446, freqSaveSettings#17447, freqAbout#17448, freqSubmitRegistration#17449, freqSettings#17450, freqLogin#17451, freqRegister#17452, freqAddtoPlaylist#17453, freqAddFriend#17454, freqNextSong#17455, freqThumbsUp#17456, freqHelp#17457, freqUpgrade#17458, freqError#17459, freqSubmitUpgrade#17460, aritstCount#17461, ... 7 more fields]\n",
      "                                                                                                                                                      +- Project [userId#17432, sessionCount#17438, gender#17439, level#17440, freqSubmitDowngrade#17441, freqThumbsDown#17442, freqHome#17443, freqDowngrade#17444, freqRollAdvert#17445, freqLogout#17446, freqSaveSettings#17447, freqAbout#17448, freqSubmitRegistration#17449, freqSettings#17450, freqLogin#17451, freqRegister#17452, freqAddtoPlaylist#17453, freqAddFriend#17454, freqNextSong#17455, freqThumbsUp#17456, freqHelp#17457, freqUpgrade#17458, freqError#17459, freqSubmitUpgrade#17460, ... 8 more fields]\n",
      "                                                                                                                                                         +- Project [userId#17432, sessionCount#17438, gender#17439, level#17440, freqSubmitDowngrade#17441, freqThumbsDown#17442, freqHome#17443, freqDowngrade#17444, freqRollAdvert#17445, freqLogout#17446, freqSaveSettings#17447, freqAbout#17448, freqSubmitRegistration#17449, freqSettings#17450, freqLogin#17451, freqRegister#17452, freqAddtoPlaylist#17453, freqAddFriend#17454, freqNextSong#17455, freqThumbsUp#17456, freqHelp#17457, freqUpgrade#17458, freqError#17459, freqSubmitUpgrade#17460, ... 7 more fields]\n",
      "                                                                                                                                                            +- Project [userId#17432, avgSessionSongs#17437, sessionCount#17438, gender#17439, level#17440, freqSubmitDowngrade#17441, freqThumbsDown#17442, freqHome#17443, freqDowngrade#17444, freqRollAdvert#17445, freqLogout#17446, freqSaveSettings#17447, freqAbout#17448, freqSubmitRegistration#17449, freqSettings#17450, freqLogin#17451, freqRegister#17452, freqAddtoPlaylist#17453, freqAddFriend#17454, freqNextSong#17455, freqThumbsUp#17456, freqHelp#17457, freqUpgrade#17458, freqError#17459, ... 8 more fields]\n",
      "                                                                                                                                                               +- Project [userId#17432, avgSessionSongs#17437, sessionCount#17438, gender#17439, level#17440, freqSubmitDowngrade#17441, freqThumbsDown#17442, freqHome#17443, freqDowngrade#17444, freqRollAdvert#17445, freqLogout#17446, freqSaveSettings#17447, freqAbout#17448, freqSubmitRegistration#17449, freqSettings#17450, freqLogin#17451, freqRegister#17452, freqAddtoPlaylist#17453, freqAddFriend#17454, freqNextSong#17455, freqThumbsUp#17456, freqHelp#17457, freqUpgrade#17458, freqError#17459, ... 7 more fields]\n",
      "                                                                                                                                                                  +- Project [userId#17432, maxSessionTime#17436, avgSessionSongs#17437, sessionCount#17438, gender#17439, level#17440, freqSubmitDowngrade#17441, freqThumbsDown#17442, freqHome#17443, freqDowngrade#17444, freqRollAdvert#17445, freqLogout#17446, freqSaveSettings#17447, freqAbout#17448, freqSubmitRegistration#17449, freqSettings#17450, freqLogin#17451, freqRegister#17452, freqAddtoPlaylist#17453, freqAddFriend#17454, freqNextSong#17455, freqThumbsUp#17456, freqHelp#17457, freqUpgrade#17458, ... 8 more fields]\n",
      "                                                                                                                                                                     +- Project [userId#17432, maxSessionTime#17436, avgSessionSongs#17437, sessionCount#17438, gender#17439, level#17440, freqSubmitDowngrade#17441, freqThumbsDown#17442, freqHome#17443, freqDowngrade#17444, freqRollAdvert#17445, freqLogout#17446, freqSaveSettings#17447, freqAbout#17448, freqSubmitRegistration#17449, freqSettings#17450, freqLogin#17451, freqRegister#17452, freqAddtoPlaylist#17453, freqAddFriend#17454, freqNextSong#17455, freqThumbsUp#17456, freqHelp#17457, freqUpgrade#17458, ... 7 more fields]\n",
      "                                                                                                                                                                        +- Project [userId#17432, minSessionTime#17435, maxSessionTime#17436, avgSessionSongs#17437, sessionCount#17438, gender#17439, level#17440, freqSubmitDowngrade#17441, freqThumbsDown#17442, freqHome#17443, freqDowngrade#17444, freqRollAdvert#17445, freqLogout#17446, freqSaveSettings#17447, freqAbout#17448, freqSubmitRegistration#17449, freqSettings#17450, freqLogin#17451, freqRegister#17452, freqAddtoPlaylist#17453, freqAddFriend#17454, freqNextSong#17455, freqThumbsUp#17456, freqHelp#17457, ... 8 more fields]\n",
      "                                                                                                                                                                           +- Project [userId#17432, minSessionTime#17435, maxSessionTime#17436, avgSessionSongs#17437, sessionCount#17438, gender#17439, level#17440, freqSubmitDowngrade#17441, freqThumbsDown#17442, freqHome#17443, freqDowngrade#17444, freqRollAdvert#17445, freqLogout#17446, freqSaveSettings#17447, freqAbout#17448, freqSubmitRegistration#17449, freqSettings#17450, freqLogin#17451, freqRegister#17452, freqAddtoPlaylist#17453, freqAddFriend#17454, freqNextSong#17455, freqThumbsUp#17456, freqHelp#17457, ... 7 more fields]\n",
      "                                                                                                                                                                              +- Project [userId#17432, avgSessionTime#17434, minSessionTime#17435, maxSessionTime#17436, avgSessionSongs#17437, sessionCount#17438, gender#17439, level#17440, freqSubmitDowngrade#17441, freqThumbsDown#17442, freqHome#17443, freqDowngrade#17444, freqRollAdvert#17445, freqLogout#17446, freqSaveSettings#17447, freqAbout#17448, freqSubmitRegistration#17449, freqSettings#17450, freqLogin#17451, freqRegister#17452, freqAddtoPlaylist#17453, freqAddFriend#17454, freqNextSong#17455, freqThumbsUp#17456, ... 8 more fields]\n",
      "                                                                                                                                                                                 +- Project [userId#17432, avgSessionTime#17434, minSessionTime#17435, maxSessionTime#17436, avgSessionSongs#17437, sessionCount#17438, gender#17439, level#17440, freqSubmitDowngrade#17441, freqThumbsDown#17442, freqHome#17443, freqDowngrade#17444, freqRollAdvert#17445, freqLogout#17446, freqSaveSettings#17447, freqAbout#17448, freqSubmitRegistration#17449, freqSettings#17450, freqLogin#17451, freqRegister#17452, freqAddtoPlaylist#17453, freqAddFriend#17454, freqNextSong#17455, freqThumbsUp#17456, ... 7 more fields]\n",
      "                                                                                                                                                                                    +- Project [userId#17432, regDay#17433, avgSessionTime#17434, minSessionTime#17435, maxSessionTime#17436, avgSessionSongs#17437, sessionCount#17438, gender#17439, level#17440, freqSubmitDowngrade#17441, freqThumbsDown#17442, freqHome#17443, freqDowngrade#17444, freqRollAdvert#17445, freqLogout#17446, freqSaveSettings#17447, freqAbout#17448, freqSubmitRegistration#17449, freqSettings#17450, freqLogin#17451, freqRegister#17452, freqAddtoPlaylist#17453, freqAddFriend#17454, freqNextSong#17455, ... 8 more fields]\n",
      "                                                                                                                                                                                       +- Relation[userId#17432,regDay#17433,avgSessionTime#17434,minSessionTime#17435,maxSessionTime#17436,avgSessionSongs#17437,sessionCount#17438,gender#17439,level#17440,freqSubmitDowngrade#17441,freqThumbsDown#17442,freqHome#17443,freqDowngrade#17444,freqRollAdvert#17445,freqLogout#17446,freqSaveSettings#17447,freqAbout#17448,freqSubmitRegistration#17449,freqSettings#17450,freqLogin#17451,freqRegister#17452,freqAddtoPlaylist#17453,freqAddFriend#17454,freqNextSong#17455,... 7 more fields] csv\n",
      "\n",
      "== Optimized Logical Plan ==\n",
      "Project [userId#17432, cast(regDay#17433 as float) AS regDayNum#17649, cast(avgSessionTime#17434 as float) AS avgSessionTimeNum#17713, cast(minSessionTime#17435 as float) AS minSessionTimeNum#17777, cast(maxSessionTime#17436 as float) AS maxSessionTimeNum#17841, cast(avgSessionSongs#17437 as float) AS avgSessionSongsNum#17905, cast(sessionCount#17438 as float) AS sessionCountNum#17969, cast(gender#17439 as float) AS genderNum#18033, cast(level#17440 as float) AS levelNum#18097, cast(freqSubmitDowngrade#17441 as float) AS freqSubmitDowngradeNum#18161, cast(freqThumbsDown#17442 as float) AS freqThumbsDownNum#18225, cast(freqHome#17443 as float) AS freqHomeNum#18289, cast(freqDowngrade#17444 as float) AS freqDowngradeNum#18353, cast(freqRollAdvert#17445 as float) AS freqRollAdvertNum#18417, cast(freqLogout#17446 as float) AS freqLogoutNum#18481, cast(freqSaveSettings#17447 as float) AS freqSaveSettingsNum#18545, cast(freqAbout#17448 as float) AS freqAboutNum#18609, cast(freqSubmitRegistration#17449 as float) AS freqSubmitRegistrationNum#18673, cast(freqSettings#17450 as float) AS freqSettingsNum#18737, cast(freqLogin#17451 as float) AS freqLoginNum#18801, cast(freqRegister#17452 as float) AS freqRegisterNum#18865, cast(freqAddtoPlaylist#17453 as float) AS freqAddtoPlaylistNum#18929, cast(freqAddFriend#17454 as float) AS freqAddFriendNum#18993, cast(freqNextSong#17455 as float) AS freqNextSongNum#19057, ... 8 more fields]\n",
      "+- Filter AtLeastNNulls(n, cast(regDay#17433 as float),cast(avgSessionTime#17434 as float),cast(minSessionTime#17435 as float),cast(maxSessionTime#17436 as float),cast(avgSessionSongs#17437 as float),cast(sessionCount#17438 as float),cast(gender#17439 as float),cast(level#17440 as float),cast(freqSubmitDowngrade#17441 as float),cast(freqThumbsDown#17442 as float),cast(freqHome#17443 as float),cast(freqDowngrade#17444 as float),cast(freqRollAdvert#17445 as float),cast(freqLogout#17446 as float),cast(freqSaveSettings#17447 as float),cast(freqAbout#17448 as float),cast(freqSubmitRegistration#17449 as float),cast(freqSettings#17450 as float),cast(freqLogin#17451 as float),cast(freqRegister#17452 as float),cast(freqAddtoPlaylist#17453 as float),cast(freqAddFriend#17454 as float),cast(freqNextSong#17455 as float),cast(freqThumbsUp#17456 as float),cast(freqHelp#17457 as float),cast(freqUpgrade#17458 as float),cast(freqError#17459 as float),cast(freqSubmitUpgrade#17460 as float),cast(aritstCount#17461 as float))\n",
      "   +- InMemoryRelation [userId#17432, regDay#17433, avgSessionTime#17434, minSessionTime#17435, maxSessionTime#17436, avgSessionSongs#17437, sessionCount#17438, gender#17439, level#17440, freqSubmitDowngrade#17441, freqThumbsDown#17442, freqHome#17443, freqDowngrade#17444, freqRollAdvert#17445, freqLogout#17446, freqSaveSettings#17447, freqAbout#17448, freqSubmitRegistration#17449, freqSettings#17450, freqLogin#17451, freqRegister#17452, freqAddtoPlaylist#17453, freqAddFriend#17454, freqNextSong#17455, ... 7 more fields], StorageLevel(disk, memory, 1 replicas)\n",
      "         +- *(1) FileScan csv [userId#17432,regDay#17433,avgSessionTime#17434,minSessionTime#17435,maxSessionTime#17436,avgSessionSongs#17437,sessionCount#17438,gender#17439,level#17440,freqSubmitDowngrade#17441,freqThumbsDown#17442,freqHome#17443,freqDowngrade#17444,freqRollAdvert#17445,freqLogout#17446,freqSaveSettings#17447,freqAbout#17448,freqSubmitRegistration#17449,freqSettings#17450,freqLogin#17451,freqRegister#17452,freqAddtoPlaylist#17453,freqAddFriend#17454,freqNextSong#17455,... 7 more fields] Batched: false, Format: CSV, Location: InMemoryFileIndex[file:/home/workspace/final_mydata.csv], PartitionFilters: [], PushedFilters: [], ReadSchema: struct<userId:string,regDay:string,avgSessionTime:string,minSessionTime:string,maxSessionTime:str...\n",
      "\n",
      "== Physical Plan ==\n",
      "*(1) Project [userId#17432, cast(regDay#17433 as float) AS regDayNum#17649, cast(avgSessionTime#17434 as float) AS avgSessionTimeNum#17713, cast(minSessionTime#17435 as float) AS minSessionTimeNum#17777, cast(maxSessionTime#17436 as float) AS maxSessionTimeNum#17841, cast(avgSessionSongs#17437 as float) AS avgSessionSongsNum#17905, cast(sessionCount#17438 as float) AS sessionCountNum#17969, cast(gender#17439 as float) AS genderNum#18033, cast(level#17440 as float) AS levelNum#18097, cast(freqSubmitDowngrade#17441 as float) AS freqSubmitDowngradeNum#18161, cast(freqThumbsDown#17442 as float) AS freqThumbsDownNum#18225, cast(freqHome#17443 as float) AS freqHomeNum#18289, cast(freqDowngrade#17444 as float) AS freqDowngradeNum#18353, cast(freqRollAdvert#17445 as float) AS freqRollAdvertNum#18417, cast(freqLogout#17446 as float) AS freqLogoutNum#18481, cast(freqSaveSettings#17447 as float) AS freqSaveSettingsNum#18545, cast(freqAbout#17448 as float) AS freqAboutNum#18609, cast(freqSubmitRegistration#17449 as float) AS freqSubmitRegistrationNum#18673, cast(freqSettings#17450 as float) AS freqSettingsNum#18737, cast(freqLogin#17451 as float) AS freqLoginNum#18801, cast(freqRegister#17452 as float) AS freqRegisterNum#18865, cast(freqAddtoPlaylist#17453 as float) AS freqAddtoPlaylistNum#18929, cast(freqAddFriend#17454 as float) AS freqAddFriendNum#18993, cast(freqNextSong#17455 as float) AS freqNextSongNum#19057, ... 8 more fields]\n",
      "+- *(1) Filter AtLeastNNulls(n, cast(regDay#17433 as float),cast(avgSessionTime#17434 as float),cast(minSessionTime#17435 as float),cast(maxSessionTime#17436 as float),cast(avgSessionSongs#17437 as float),cast(sessionCount#17438 as float),cast(gender#17439 as float),cast(level#17440 as float),cast(freqSubmitDowngrade#17441 as float),cast(freqThumbsDown#17442 as float),cast(freqHome#17443 as float),cast(freqDowngrade#17444 as float),cast(freqRollAdvert#17445 as float),cast(freqLogout#17446 as float),cast(freqSaveSettings#17447 as float),cast(freqAbout#17448 as float),cast(freqSubmitRegistration#17449 as float),cast(freqSettings#17450 as float),cast(freqLogin#17451 as float),cast(freqRegister#17452 as float),cast(freqAddtoPlaylist#17453 as float),cast(freqAddFriend#17454 as float),cast(freqNextSong#17455 as float),cast(freqThumbsUp#17456 as float),cast(freqHelp#17457 as float),cast(freqUpgrade#17458 as float),cast(freqError#17459 as float),cast(freqSubmitUpgrade#17460 as float),cast(aritstCount#17461 as float))\n",
      "   +- InMemoryTableScan [userId#17432, regDay#17433, avgSessionTime#17434, minSessionTime#17435, maxSessionTime#17436, avgSessionSongs#17437, sessionCount#17438, gender#17439, level#17440, freqSubmitDowngrade#17441, freqThumbsDown#17442, freqHome#17443, freqDowngrade#17444, freqRollAdvert#17445, freqLogout#17446, freqSaveSettings#17447, freqAbout#17448, freqSubmitRegistration#17449, freqSettings#17450, freqLogin#17451, freqRegister#17452, freqAddtoPlaylist#17453, freqAddFriend#17454, freqNextSong#17455, ... 7 more fields], [AtLeastNNulls(n, cast(regDay#17433 as float),cast(avgSessionTime#17434 as float),cast(minSessionTime#17435 as float),cast(maxSessionTime#17436 as float),cast(avgSessionSongs#17437 as float),cast(sessionCount#17438 as float),cast(gender#17439 as float),cast(level#17440 as float),cast(freqSubmitDowngrade#17441 as float),cast(freqThumbsDown#17442 as float),cast(freqHome#17443 as float),cast(freqDowngrade#17444 as float),cast(freqRollAdvert#17445 as float),cast(freqLogout#17446 as float),cast(freqSaveSettings#17447 as float),cast(freqAbout#17448 as float),cast(freqSubmitRegistration#17449 as float),cast(freqSettings#17450 as float),cast(freqLogin#17451 as float),cast(freqRegister#17452 as float),cast(freqAddtoPlaylist#17453 as float),cast(freqAddFriend#17454 as float),cast(freqNextSong#17455 as float),cast(freqThumbsUp#17456 as float),cast(freqHelp#17457 as float),cast(freqUpgrade#17458 as float),cast(freqError#17459 as float),cast(freqSubmitUpgrade#17460 as float),cast(aritstCount#17461 as float))]\n",
      "         +- InMemoryRelation [userId#17432, regDay#17433, avgSessionTime#17434, minSessionTime#17435, maxSessionTime#17436, avgSessionSongs#17437, sessionCount#17438, gender#17439, level#17440, freqSubmitDowngrade#17441, freqThumbsDown#17442, freqHome#17443, freqDowngrade#17444, freqRollAdvert#17445, freqLogout#17446, freqSaveSettings#17447, freqAbout#17448, freqSubmitRegistration#17449, freqSettings#17450, freqLogin#17451, freqRegister#17452, freqAddtoPlaylist#17453, freqAddFriend#17454, freqNextSong#17455, ... 7 more fields], StorageLevel(disk, memory, 1 replicas)\n",
      "               +- *(1) FileScan csv [userId#17432,regDay#17433,avgSessionTime#17434,minSessionTime#17435,maxSessionTime#17436,avgSessionSongs#17437,sessionCount#17438,gender#17439,level#17440,freqSubmitDowngrade#17441,freqThumbsDown#17442,freqHome#17443,freqDowngrade#17444,freqRollAdvert#17445,freqLogout#17446,freqSaveSettings#17447,freqAbout#17448,freqSubmitRegistration#17449,freqSettings#17450,freqLogin#17451,freqRegister#17452,freqAddtoPlaylist#17453,freqAddFriend#17454,freqNextSong#17455,... 7 more fields] Batched: false, Format: CSV, Location: InMemoryFileIndex[file:/home/workspace/final_mydata.csv], PartitionFilters: [], PushedFilters: [], ReadSchema: struct<userId:string,regDay:string,avgSessionTime:string,minSessionTime:string,maxSessionTime:str...\n"
     ]
    }
   ],
   "source": [
    "data.explain(extended=True)"
   ]
  },
  {
   "cell_type": "code",
   "execution_count": 65,
   "metadata": {},
   "outputs": [
    {
     "data": {
      "text/plain": [
       "MapPartitionsRDD[920] at javaToPython at NativeMethodAccessorImpl.java:0"
      ]
     },
     "execution_count": 65,
     "metadata": {},
     "output_type": "execute_result"
    }
   ],
   "source": [
    "data.rdd"
   ]
  },
  {
   "cell_type": "code",
   "execution_count": 66,
   "metadata": {},
   "outputs": [
    {
     "data": {
      "text/plain": [
       "StructType(List(StructField(userId,StringType,true),StructField(regDayNum,FloatType,true),StructField(avgSessionTimeNum,FloatType,true),StructField(minSessionTimeNum,FloatType,true),StructField(maxSessionTimeNum,FloatType,true),StructField(avgSessionSongsNum,FloatType,true),StructField(sessionCountNum,FloatType,true),StructField(genderNum,FloatType,true),StructField(levelNum,FloatType,true),StructField(freqSubmitDowngradeNum,FloatType,true),StructField(freqThumbsDownNum,FloatType,true),StructField(freqHomeNum,FloatType,true),StructField(freqDowngradeNum,FloatType,true),StructField(freqRollAdvertNum,FloatType,true),StructField(freqLogoutNum,FloatType,true),StructField(freqSaveSettingsNum,FloatType,true),StructField(freqAboutNum,FloatType,true),StructField(freqSubmitRegistrationNum,FloatType,true),StructField(freqSettingsNum,FloatType,true),StructField(freqLoginNum,FloatType,true),StructField(freqRegisterNum,FloatType,true),StructField(freqAddtoPlaylistNum,FloatType,true),StructField(freqAddFriendNum,FloatType,true),StructField(freqNextSongNum,FloatType,true),StructField(freqThumbsUpNum,FloatType,true),StructField(freqHelpNum,FloatType,true),StructField(freqUpgradeNum,FloatType,true),StructField(freqErrorNum,FloatType,true),StructField(freqSubmitUpgradeNum,FloatType,true),StructField(aritstCountNum,FloatType,true),StructField(churnNum,FloatType,true),StructField(NumFeatures,VectorUDT,true)))"
      ]
     },
     "execution_count": 66,
     "metadata": {},
     "output_type": "execute_result"
    }
   ],
   "source": [
    "data.schema"
   ]
  },
  {
   "cell_type": "code",
   "execution_count": null,
   "metadata": {},
   "outputs": [],
   "source": [
    "# trainingData = spark.createDataFrame(data.rdd, schema=data.schema)\n",
    "# sc = spark.sparkContext\n",
    "# sc.setCheckpointDir('checkpoint')"
   ]
  },
  {
   "cell_type": "code",
   "execution_count": 68,
   "metadata": {},
   "outputs": [],
   "source": [
    "# data = spark.createDataFrame(data.rdd, schema=data.schema)\n",
    "scalerModel = scaler.fit(data)"
   ]
  },
  {
   "cell_type": "code",
   "execution_count": 69,
   "metadata": {},
   "outputs": [],
   "source": [
    "data = scalerModel.transform(data)"
   ]
  },
  {
   "cell_type": "code",
   "execution_count": 70,
   "metadata": {},
   "outputs": [],
   "source": [
    "data = data.select(data.churnNum.alias(\"label\"), data.ScaledNumFeatures.alias(\"features\"))"
   ]
  },
  {
   "cell_type": "code",
   "execution_count": 71,
   "metadata": {},
   "outputs": [],
   "source": [
    "train, validation = data.randomSplit([0.9, 0.1], seed=42)\n",
    "train = train.cache()"
   ]
  },
  {
   "cell_type": "code",
   "execution_count": 72,
   "metadata": {},
   "outputs": [],
   "source": [
    "lr =  LogisticRegression()\n",
    "paramGrid = ParamGridBuilder() \\\n",
    "    .addGrid(lr.elasticNetParam,[0.0, 0.1, 0.5, 1.0]) \\\n",
    "    .addGrid(lr.regParam,[0.0, 0.05, 0.1]) \\\n",
    "    .build()\n",
    "\n",
    "crossval = CrossValidator(estimator=lr,\n",
    "                          estimatorParamMaps=paramGrid,\n",
    "                          evaluator=MulticlassClassificationEvaluator(),\n",
    "                          numFolds=3)\n",
    "cvModel_lr = crossval.fit(train)"
   ]
  },
  {
   "cell_type": "code",
   "execution_count": 73,
   "metadata": {},
   "outputs": [],
   "source": [
    "cvModel_lr.save('cvModel_lr.model')"
   ]
  },
  {
   "cell_type": "code",
   "execution_count": 74,
   "metadata": {},
   "outputs": [
    {
     "data": {
      "text/plain": [
       "[0.7985770589668617,\n",
       " 0.7622041711421411,\n",
       " 0.7303561836992208,\n",
       " 0.7985770589668617,\n",
       " 0.7622041711421411,\n",
       " 0.7303561836992208,\n",
       " 0.7985770589668617,\n",
       " 0.726095532070148,\n",
       " 0.7105978461217229,\n",
       " 0.7985770589668617,\n",
       " 0.7222610070060675,\n",
       " 0.6912341115425729]"
      ]
     },
     "execution_count": 74,
     "metadata": {},
     "output_type": "execute_result"
    }
   ],
   "source": [
    "cvModel_lr.avgMetrics"
   ]
  },
  {
   "cell_type": "code",
   "execution_count": 75,
   "metadata": {},
   "outputs": [],
   "source": [
    "dt = DecisionTreeClassifier()\n",
    "paramGrid = ParamGridBuilder() \\\n",
    "    .addGrid(dt.impurity,['entropy', 'gini']) \\\n",
    "    .addGrid(dt.maxDepth,[2, 3, 4, 5, 6, 7, 8]) \\\n",
    "    .build()\n",
    "\n",
    "crossval_dt = CrossValidator(estimator=dt,\n",
    "                          estimatorParamMaps=paramGrid,\n",
    "                          evaluator=MulticlassClassificationEvaluator(),\n",
    "                          numFolds=3)\n",
    "\n",
    "cvModel_dt = crossval_dt.fit(train)"
   ]
  },
  {
   "cell_type": "code",
   "execution_count": 76,
   "metadata": {},
   "outputs": [],
   "source": [
    "cvModel_dt.save('cvModel_dt.model')"
   ]
  },
  {
   "cell_type": "code",
   "execution_count": 77,
   "metadata": {},
   "outputs": [
    {
     "data": {
      "text/plain": [
       "[0.7834973871158082,\n",
       " 0.791196164064365,\n",
       " 0.7658864097052592,\n",
       " 0.7263809501795772,\n",
       " 0.7367265058571978,\n",
       " 0.7367265058571978,\n",
       " 0.7327342018648938,\n",
       " 0.7695657406607195,\n",
       " 0.7880593345124237,\n",
       " 0.7565748796698585,\n",
       " 0.7338535570482538,\n",
       " 0.7200608011914931,\n",
       " 0.7240746900803819,\n",
       " 0.7240746900803819]"
      ]
     },
     "execution_count": 77,
     "metadata": {},
     "output_type": "execute_result"
    }
   ],
   "source": [
    "cvModel_dt.avgMetrics"
   ]
  },
  {
   "cell_type": "code",
   "execution_count": 78,
   "metadata": {},
   "outputs": [],
   "source": [
    "gbt = GBTClassifier()\n",
    "\n",
    "paramGrid = ParamGridBuilder() \\\n",
    "    .addGrid(gbt.maxIter,[3, 10, 20]) \\\n",
    "    .addGrid(gbt.maxDepth,[2, 4, 6, 8]) \\\n",
    "    .build()\n",
    "\n",
    "crossval_gbt = CrossValidator(estimator=gbt,\n",
    "                          estimatorParamMaps=paramGrid,\n",
    "                          evaluator=MulticlassClassificationEvaluator(),\n",
    "                          numFolds=3)\n",
    "\n",
    "cvModel_gbt = crossval_gbt.fit(train)"
   ]
  },
  {
   "cell_type": "code",
   "execution_count": 79,
   "metadata": {},
   "outputs": [],
   "source": [
    "cvModel_gbt.save('cvModel_gbt.model')"
   ]
  },
  {
   "cell_type": "code",
   "execution_count": 80,
   "metadata": {},
   "outputs": [
    {
     "data": {
      "text/plain": [
       "[0.7846449456975773,\n",
       " 0.7623472330430737,\n",
       " 0.7200608011914931,\n",
       " 0.7240746900803819,\n",
       " 0.7583814397721408,\n",
       " 0.7523036054555865,\n",
       " 0.7240746900803819,\n",
       " 0.7240746900803819,\n",
       " 0.7801203898340991,\n",
       " 0.7675945195585288,\n",
       " 0.728071558699337,\n",
       " 0.7240746900803819]"
      ]
     },
     "execution_count": 80,
     "metadata": {},
     "output_type": "execute_result"
    }
   ],
   "source": [
    "cvModel_gbt.avgMetrics"
   ]
  },
  {
   "cell_type": "markdown",
   "metadata": {},
   "source": [
    "Use undersampling to optimize the F1 score"
   ]
  },
  {
   "cell_type": "code",
   "execution_count": 81,
   "metadata": {},
   "outputs": [
    {
     "name": "stdout",
     "output_type": "stream",
     "text": [
      "+-----+-----+\n",
      "|label|count|\n",
      "+-----+-----+\n",
      "|  1.0|   44|\n",
      "|  0.0|   50|\n",
      "+-----+-----+\n",
      "\n"
     ]
    }
   ],
   "source": [
    "stratified_train = train.sampleBy('label', fractions={0: 99/349, 1: 1.0}).cache()\n",
    "stratified_train.groupby(\"label\").count().show()"
   ]
  },
  {
   "cell_type": "code",
   "execution_count": 82,
   "metadata": {},
   "outputs": [
    {
     "data": {
      "text/plain": [
       "[0.5810003980693637,\n",
       " 0.6962034819531071,\n",
       " 0.6855561994912909,\n",
       " 0.5810003980693637,\n",
       " 0.6650594471883827,\n",
       " 0.677739941675033,\n",
       " 0.5810003980693637,\n",
       " 0.6918873870933134,\n",
       " 0.7105501403300375,\n",
       " 0.5810003980693637,\n",
       " 0.704055316091954,\n",
       " 0.6865766633124443]"
      ]
     },
     "execution_count": 82,
     "metadata": {},
     "output_type": "execute_result"
    }
   ],
   "source": [
    "lrs =  LogisticRegression()\n",
    "paramGrid = ParamGridBuilder() \\\n",
    "    .addGrid(lrs.elasticNetParam,[0.0, 0.1, 0.5, 1.0]) \\\n",
    "    .addGrid(lrs.regParam,[0.0, 0.05, 0.1]) \\\n",
    "    .build()\n",
    "\n",
    "crossval_lrs = CrossValidator(estimator=lrs,\n",
    "                          estimatorParamMaps=paramGrid,\n",
    "                          evaluator=MulticlassClassificationEvaluator(),\n",
    "                          numFolds=3)\n",
    "cvModel_lrs = crossval_lrs.fit(stratified_train)\n",
    "cvModel_lrs.avgMetrics"
   ]
  },
  {
   "cell_type": "code",
   "execution_count": 83,
   "metadata": {},
   "outputs": [],
   "source": [
    "cvModel_lrs.save('cvModel_lrs.model')"
   ]
  },
  {
   "cell_type": "code",
   "execution_count": 84,
   "metadata": {},
   "outputs": [
    {
     "data": {
      "text/plain": [
       "[0.6315314120144048,\n",
       " 0.6414070966339569,\n",
       " 0.5928912860860124,\n",
       " 0.6483830707241384,\n",
       " 0.6181299055172306,\n",
       " 0.6305312004134543,\n",
       " 0.6425270206851368,\n",
       " 0.7482478749992363,\n",
       " 0.6879320862592962,\n",
       " 0.6778753444389232,\n",
       " 0.6778753444389232,\n",
       " 0.6764049656442653,\n",
       " 0.6886359980781375,\n",
       " 0.6775318531808892]"
      ]
     },
     "execution_count": 84,
     "metadata": {},
     "output_type": "execute_result"
    }
   ],
   "source": [
    "dts = DecisionTreeClassifier()\n",
    "paramGrid = ParamGridBuilder() \\\n",
    "    .addGrid(dts.impurity,['entropy', 'gini']) \\\n",
    "    .addGrid(dts.maxDepth,[2, 3, 4, 5, 6, 7, 8]) \\\n",
    "    .build()\n",
    "crossval_dts = CrossValidator(estimator=dts,\n",
    "                          estimatorParamMaps=paramGrid,\n",
    "                          evaluator=MulticlassClassificationEvaluator(),\n",
    "                          numFolds=3)\n",
    "cvModel_dts = crossval_dts.fit(stratified_train)\n",
    "cvModel_dts.avgMetrics"
   ]
  },
  {
   "cell_type": "code",
   "execution_count": 85,
   "metadata": {},
   "outputs": [],
   "source": [
    "cvModel_dts.save('cvModel_dts.model')"
   ]
  },
  {
   "cell_type": "code",
   "execution_count": 86,
   "metadata": {},
   "outputs": [
    {
     "data": {
      "text/plain": [
       "[0.7401079974755334,\n",
       " 0.6778753444389232,\n",
       " 0.6764049656442653,\n",
       " 0.6775318531808892,\n",
       " 0.7009348385833636,\n",
       " 0.6796869061905149,\n",
       " 0.6886359980781375,\n",
       " 0.6775318531808892,\n",
       " 0.7650065643169093,\n",
       " 0.6796869061905149,\n",
       " 0.6775318531808892,\n",
       " 0.6775318531808892]"
      ]
     },
     "execution_count": 86,
     "metadata": {},
     "output_type": "execute_result"
    }
   ],
   "source": [
    "gbts = GBTClassifier()\n",
    "paramGrid = ParamGridBuilder() \\\n",
    "    .addGrid(gbts.maxIter,[3, 10, 20]) \\\n",
    "    .addGrid(gbts.maxDepth,[2, 4, 6, 8]) \\\n",
    "    .build()\n",
    "crossval_gbts = CrossValidator(estimator=gbts,\n",
    "                          estimatorParamMaps=paramGrid,\n",
    "                          evaluator=MulticlassClassificationEvaluator(),\n",
    "                          numFolds=3)\n",
    "cvModel_gbts = crossval_gbts.fit(stratified_train)\n",
    "cvModel_gbts.avgMetrics"
   ]
  },
  {
   "cell_type": "code",
   "execution_count": 87,
   "metadata": {},
   "outputs": [],
   "source": [
    "cvModel_gbts.save('cvModel_gbts.model')"
   ]
  },
  {
   "cell_type": "markdown",
   "metadata": {},
   "source": [
    "Use the validate data to evaluate the best model through F1 score."
   ]
  },
  {
   "cell_type": "code",
   "execution_count": 88,
   "metadata": {},
   "outputs": [],
   "source": [
    "results = cvModel_lr.transform(validation)"
   ]
  },
  {
   "cell_type": "code",
   "execution_count": 89,
   "metadata": {},
   "outputs": [
    {
     "name": "stdout",
     "output_type": "stream",
     "text": [
      "0.5\n",
      "0.125\n",
      "0.2\n"
     ]
    }
   ],
   "source": [
    "tp = results.filter(\"label = 1 and prediction = 1\").count()\n",
    "fp = results.filter(\"label = 0 and prediction = 1\").count()\n",
    "fn = results.filter(\"label = 1 and prediction = 0\").count()\n",
    "precision = tp / (tp + fp) \n",
    "recall = tp / (tp + fn)\n",
    "f1 = 2*precision*recall / (precision+recall)\n",
    "print(precision)\n",
    "print(recall)\n",
    "print(f1)"
   ]
  },
  {
   "cell_type": "code",
   "execution_count": 95,
   "metadata": {},
   "outputs": [],
   "source": [
    "results = cvModel_dts.transform(validation)"
   ]
  },
  {
   "cell_type": "code",
   "execution_count": 96,
   "metadata": {},
   "outputs": [
    {
     "name": "stdout",
     "output_type": "stream",
     "text": [
      "0.5\n",
      "0.5\n",
      "0.5\n"
     ]
    }
   ],
   "source": [
    "tp = results.filter(\"label = 1 and prediction = 1\").count()\n",
    "fp = results.filter(\"label = 0 and prediction = 1\").count()\n",
    "fn = results.filter(\"label = 1 and prediction = 0\").count()\n",
    "precision = tp / (tp + fp) \n",
    "recall = tp / (tp + fn)\n",
    "f1 = 2*precision*recall / (precision+recall)\n",
    "print(precision)\n",
    "print(recall)\n",
    "print(f1)"
   ]
  },
  {
   "cell_type": "code",
   "execution_count": 97,
   "metadata": {},
   "outputs": [],
   "source": [
    "results = cvModel_gbts.transform(validation)"
   ]
  },
  {
   "cell_type": "code",
   "execution_count": 98,
   "metadata": {},
   "outputs": [
    {
     "name": "stdout",
     "output_type": "stream",
     "text": [
      "0.5\n",
      "0.375\n",
      "0.42857142857142855\n"
     ]
    }
   ],
   "source": [
    "tp = results.filter(\"label = 1 and prediction = 1\").count()\n",
    "fp = results.filter(\"label = 0 and prediction = 1\").count()\n",
    "fn = results.filter(\"label = 1 and prediction = 0\").count()\n",
    "precision = tp / (tp + fp) \n",
    "recall = tp / (tp + fn)\n",
    "f1 = 2*precision*recall / (precision+recall)\n",
    "print(precision)\n",
    "print(recall)\n",
    "print(f1)"
   ]
  },
  {
   "cell_type": "code",
   "execution_count": 90,
   "metadata": {},
   "outputs": [],
   "source": [
    "results = cvModel_lrs.transform(validation)"
   ]
  },
  {
   "cell_type": "code",
   "execution_count": 91,
   "metadata": {},
   "outputs": [
    {
     "name": "stdout",
     "output_type": "stream",
     "text": [
      "0.6\n",
      "0.375\n",
      "0.4615384615384615\n"
     ]
    }
   ],
   "source": [
    "tp = results.filter(\"label = 1 and prediction = 1\").count()\n",
    "fp = results.filter(\"label = 0 and prediction = 1\").count()\n",
    "fn = results.filter(\"label = 1 and prediction = 0\").count()\n",
    "precision = tp / (tp + fp) \n",
    "recall = tp / (tp + fn)\n",
    "f1 = 2*precision*recall / (precision+recall)\n",
    "print(precision)\n",
    "print(recall)\n",
    "print(f1)"
   ]
  },
  {
   "cell_type": "code",
   "execution_count": 92,
   "metadata": {},
   "outputs": [
    {
     "data": {
      "text/plain": [
       "SparseVector(29, {0: -0.4575, 3: -0.0373, 9: 0.272, 11: 0.1374, 13: -0.0081, 15: -0.2671, 17: 0.0673, 22: -0.0332, 26: -0.0318})"
      ]
     },
     "execution_count": 92,
     "metadata": {},
     "output_type": "execute_result"
    }
   ],
   "source": [
    "cvModel_lrs.bestModel.coefficients"
   ]
  },
  {
   "cell_type": "code",
   "execution_count": 94,
   "metadata": {},
   "outputs": [],
   "source": [
    "# df_final.columns"
   ]
  },
  {
   "cell_type": "markdown",
   "metadata": {},
   "source": [
    "# Final Steps\n",
    "Clean up your code, adding comments and renaming variables to make the code easier to read and maintain. Refer to the Spark Project Overview page and Data Scientist Capstone Project Rubric to make sure you are including all components of the capstone project and meet all expectations. Remember, this includes thorough documentation in a README file in a Github repository, as well as a web app or blog post."
   ]
  },
  {
   "cell_type": "code",
   "execution_count": null,
   "metadata": {},
   "outputs": [],
   "source": []
  }
 ],
 "metadata": {
  "kernelspec": {
   "display_name": "Python 3",
   "language": "python",
   "name": "python3"
  },
  "language_info": {
   "codemirror_mode": {
    "name": "ipython",
    "version": 3
   },
   "file_extension": ".py",
   "mimetype": "text/x-python",
   "name": "python",
   "nbconvert_exporter": "python",
   "pygments_lexer": "ipython3",
   "version": "3.6.3"
  }
 },
 "nbformat": 4,
 "nbformat_minor": 2
}
